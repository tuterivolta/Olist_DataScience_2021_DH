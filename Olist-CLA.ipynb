{
 "cells": [
  {
   "cell_type": "markdown",
   "id": "223beb3a-ce16-4118-aa96-a5df4d393618",
   "metadata": {},
   "source": [
    "# MODELOS CLASIFICACION - DATA TABULAR <a id=\"modelos\"></a> "
   ]
  },
  {
   "cell_type": "markdown",
   "id": "db804dce-a503-453d-81d0-050a26214aa3",
   "metadata": {
    "papermill": {
     "duration": 0.080281,
     "end_time": "2021-03-04T17:25:56.513794",
     "exception": false,
     "start_time": "2021-03-04T17:25:56.433513",
     "status": "completed"
    },
    "tags": []
   },
   "source": [
    "# Introducción <a id=\"introduction\"></a>\n",
    "Como fue comentado inicialmente, la idea de aplicar estos modelos de clasificación es hacer foco en identificar grupos de clientes que demuestren un comportamiento particular hacia los servicios de la empresa y su satisfacción con los mismos. Dicha identificación genera la base informativa necesaria para buscar mejorar esa satisfacción y la consecuente reputación de la empresa, como así también aplicar una pluralidad de estrategias de fidelización y/o atracción de determinados perfiles, decisiones que van a cuenta de la empresa.\n",
    "Vamos a hacer varias pruebas para encontrar el mejor modelo de clasificación basado en F1-Score para predecir reviewscore. Para la preparación de datos se eliminaran variables que a priori no usaremos, se crearán dummies, se estatificara la data, se probarán métodos de balance de datos, reduccion de features y distintas técnicas de clasificación de machine learning. Después de eso, trazaremos la mejor interacción del árbol de decisión de los modelos con su feature_importance. Luego haremos un pipeline y exportaremos el modelo."
   ]
  },
  {
   "cell_type": "markdown",
   "id": "4cd2eece-1b37-4d70-8c7f-4657bad4b77e",
   "metadata": {},
   "source": [
    "[Volver al menu](#top)"
   ]
  },
  {
   "cell_type": "markdown",
   "id": "e30d8370-4d61-405b-96b9-9b6421dbbd32",
   "metadata": {},
   "source": [
    "## Importar librerías  <a id=\"libmodelos\"></a>"
   ]
  },
  {
   "cell_type": "code",
   "execution_count": 88,
   "id": "796e04ac-a8bc-40a9-93a8-fa2288011e36",
   "metadata": {
    "papermill": {
     "duration": 1.229963,
     "end_time": "2021-03-04T17:25:57.826251",
     "exception": false,
     "start_time": "2021-03-04T17:25:56.596288",
     "status": "completed"
    },
    "tags": []
   },
   "outputs": [],
   "source": [
    "from sklearn.model_selection import train_test_split,cross_val_score,StratifiedKFold\n",
    "import warnings\n",
    "import warnings\n",
    "warnings.filterwarnings(\"ignore\")\n",
    "\n",
    "from sklearn import preprocessing\n",
    "from sklearn.preprocessing import MinMaxScaler\n",
    "from sklearn.preprocessing import StandardScaler \n",
    "\n",
    "#Método de balance de datos\n",
    "from imblearn.under_sampling import RandomUnderSampler\n",
    "from imblearn.over_sampling import SMOTENC\n",
    "from imblearn.over_sampling import RandomOverSampler\n",
    "from imblearn.under_sampling import TomekLinks\n",
    "\n",
    "#Metricas de Evaluacion de modelos\n",
    "from sklearn.metrics import recall_score\n",
    "from sklearn.metrics import precision_score\n",
    "from sklearn.metrics import f1_score\n",
    "from sklearn.feature_selection import SelectKBest, f_classif,RFECV,RFE\n",
    "from sklearn.pipeline import Pipeline\n",
    "from sklearn.model_selection import GridSearchCV\n",
    "from sklearn.metrics import accuracy_score,roc_auc_score, classification_report, confusion_matrix, precision_recall_curve, r2_score, auc\n",
    "from sklearn.linear_model import LogisticRegression\n",
    "from sklearn.naive_bayes import MultinomialNB\n",
    "from sklearn import metrics\n",
    "\n",
    "# Clasificadores\n",
    "from sklearn.tree import DecisionTreeClassifier\n",
    "from sklearn.ensemble import RandomForestClassifier\n",
    "import xgboost as xgb\n",
    "\n",
    "# Tunning modelos\n",
    "from hyperopt import fmin, tpe, hp, anneal, Trials, STATUS_OK\n",
    "from sklearn.metrics import plot_confusion_matrix\n",
    "from sklearn.metrics import mean_squared_error\n",
    "from sklearn.model_selection import cross_val_score\n",
    "\n",
    "# Importancia de variables y ploteo del arbol\n",
    "from xgboost import plot_tree\n",
    "\n",
    "# guardado del modelo\n",
    "import joblib\n",
    "\n",
    "import seaborn\n",
    "import matplotlib.pyplot as plt"
   ]
  },
  {
   "cell_type": "markdown",
   "id": "9a0bd564-7bf1-4c87-812e-9127da3f33de",
   "metadata": {},
   "source": [
    "[Volver al menu](#top)"
   ]
  },
  {
   "cell_type": "markdown",
   "id": "3252bde9-7477-4261-abfc-13824afefefe",
   "metadata": {},
   "source": [
    "## Preparación de la data  <a id=\"prepdata\"></a>"
   ]
  },
  {
   "cell_type": "code",
   "execution_count": 89,
   "id": "07a5f925-d2c1-4f06-aba9-048fa069eede",
   "metadata": {},
   "outputs": [],
   "source": [
    "df_full=df.reset_index()"
   ]
  },
  {
   "cell_type": "code",
   "execution_count": 90,
   "id": "fb7dd1d3-e8ee-4ead-a9cb-4027cf39a486",
   "metadata": {},
   "outputs": [
    {
     "name": "stdout",
     "output_type": "stream",
     "text": [
      "<class 'pandas.core.frame.DataFrame'>\n",
      "RangeIndex: 95815 entries, 0 to 95814\n",
      "Data columns (total 44 columns):\n",
      " #   Column                       Non-Null Count  Dtype  \n",
      "---  ------                       --------------  -----  \n",
      " 0   index                        95815 non-null  int64  \n",
      " 1   order_status                 95815 non-null  object \n",
      " 2   seller_id                    95815 non-null  object \n",
      " 3   price                        95815 non-null  float64\n",
      " 4   freight_value                95815 non-null  float64\n",
      " 5   payment_type                 95814 non-null  object \n",
      " 6   payment_value                95814 non-null  float64\n",
      " 7   review_score                 95815 non-null  float64\n",
      " 8   product_category_name        94471 non-null  object \n",
      " 9   product_photos_qty           94471 non-null  float64\n",
      " 10  product_weight_g             95799 non-null  float64\n",
      " 11  product_length_cm            95799 non-null  float64\n",
      " 12  product_height_cm            95799 non-null  float64\n",
      " 13  product_width_cm             95799 non-null  float64\n",
      " 14  customer_unique_id           95815 non-null  object \n",
      " 15  customer_zip_code_prefix     95815 non-null  int64  \n",
      " 16  customer_city                95815 non-null  object \n",
      " 17  customer_state               95815 non-null  object \n",
      " 18  seller_zip_code_prefix       95815 non-null  float64\n",
      " 19  seller_city                  95815 non-null  object \n",
      " 20  seller_state                 95815 non-null  object \n",
      " 21  weekday_order                95815 non-null  int64  \n",
      " 22  year_order                   95815 non-null  int64  \n",
      " 23  monthday_order               95815 non-null  int64  \n",
      " 24  month_order                  95815 non-null  int64  \n",
      " 25  hour_order                   95815 non-null  int64  \n",
      " 26  weekday_delivered            95815 non-null  int64  \n",
      " 27  year_delivered               95815 non-null  int64  \n",
      " 28  monthday_delivered           95815 non-null  int64  \n",
      " 29  month_delivered              95815 non-null  int64  \n",
      " 30  hour_delivered               95815 non-null  int64  \n",
      " 31  delta_dias_entrega_cliente   95815 non-null  float64\n",
      " 32  delta_dias_responder_review  95815 non-null  float64\n",
      " 33  delta_de_comprada_aprobada   95815 non-null  float64\n",
      " 34  delta_de_aprobada_logistica  95815 non-null  float64\n",
      " 35  delta_de_logistica_cliente   95815 non-null  float64\n",
      " 36  delta_de_comprada_cliente    95815 non-null  float64\n",
      " 37  delta_de_entrega_estimada    95815 non-null  float64\n",
      " 38  delta_de_logistica_limit     95815 non-null  float64\n",
      " 39  delta_de_estimada_compra     95815 non-null  float64\n",
      " 40  precio_relativo_envío        95815 non-null  float64\n",
      " 41  producto_caro                95815 non-null  int32  \n",
      " 42  seller_experimentado         95815 non-null  int32  \n",
      " 43  distance_cust_sell_km        95815 non-null  float64\n",
      "dtypes: float64(21), int32(2), int64(12), object(9)\n",
      "memory usage: 31.4+ MB\n"
     ]
    }
   ],
   "source": [
    "df_full.info()"
   ]
  },
  {
   "cell_type": "markdown",
   "id": "e034694e-bb21-4df5-8a8b-b40e1c196a1d",
   "metadata": {},
   "source": [
    "Ploteamos una matriz correlación para asegurarnos que ninguna variable este relacionada con el target"
   ]
  },
  {
   "cell_type": "code",
   "execution_count": 91,
   "id": "290a3be0-f3b3-4263-b0dc-e921d321d22b",
   "metadata": {},
   "outputs": [
    {
     "data": {
      "image/png": "[encoded data removed]",
      "text/plain": [
       "<Figure size 432x288 with 2 Axes>"
      ]
     },
     "metadata": {
      "needs_background": "light"
     },
     "output_type": "display_data"
    }
   ],
   "source": [
    "corr_df = df_full.corr()\n",
    "\n",
    "mask = np.zeros_like(corr_df)\n",
    "mask[np.triu_indices_from(mask)] = True\n",
    "\n",
    "seaborn.heatmap(corr_df, cmap='BuPu', vmax=1.0, vmin=-1 ,mask = mask,  linewidths=3,fmt='.1f')\n",
    " \n",
    "plt.yticks(rotation=0,fontsize=10) \n",
    "plt.xticks(rotation=90,fontsize=10) \n",
    "plt.show()"
   ]
  },
  {
   "cell_type": "code",
   "execution_count": 92,
   "id": "b012beb2-8208-48d6-9da6-0515ccf1927a",
   "metadata": {},
   "outputs": [
    {
     "data": {
      "text/html": [
       "<div>\n",
       "<style scoped>\n",
       "    .dataframe tbody tr th:only-of-type {\n",
       "        vertical-align: middle;\n",
       "    }\n",
       "\n",
       "    .dataframe tbody tr th {\n",
       "        vertical-align: top;\n",
       "    }\n",
       "\n",
       "    .dataframe thead th {\n",
       "        text-align: right;\n",
       "    }\n",
       "</style>\n",
       "<table border=\"1\" class=\"dataframe\">\n",
       "  <thead>\n",
       "    <tr style=\"text-align: right;\">\n",
       "      <th></th>\n",
       "      <th>index</th>\n",
       "      <th>price</th>\n",
       "      <th>freight_value</th>\n",
       "      <th>payment_value</th>\n",
       "      <th>review_score</th>\n",
       "      <th>product_photos_qty</th>\n",
       "      <th>product_weight_g</th>\n",
       "      <th>product_length_cm</th>\n",
       "      <th>product_height_cm</th>\n",
       "      <th>product_width_cm</th>\n",
       "      <th>...</th>\n",
       "      <th>delta_de_aprobada_logistica</th>\n",
       "      <th>delta_de_logistica_cliente</th>\n",
       "      <th>delta_de_comprada_cliente</th>\n",
       "      <th>delta_de_entrega_estimada</th>\n",
       "      <th>delta_de_logistica_limit</th>\n",
       "      <th>delta_de_estimada_compra</th>\n",
       "      <th>precio_relativo_envío</th>\n",
       "      <th>producto_caro</th>\n",
       "      <th>seller_experimentado</th>\n",
       "      <th>distance_cust_sell_km</th>\n",
       "    </tr>\n",
       "  </thead>\n",
       "  <tbody>\n",
       "    <tr>\n",
       "      <th>index</th>\n",
       "      <td>1.000000</td>\n",
       "      <td>0.101453</td>\n",
       "      <td>0.066446</td>\n",
       "      <td>0.090290</td>\n",
       "      <td>0.036858</td>\n",
       "      <td>0.016684</td>\n",
       "      <td>0.008784</td>\n",
       "      <td>0.007856</td>\n",
       "      <td>0.060536</td>\n",
       "      <td>-0.015986</td>\n",
       "      <td>...</td>\n",
       "      <td>-0.012783</td>\n",
       "      <td>-0.029898</td>\n",
       "      <td>-0.033466</td>\n",
       "      <td>-0.027356</td>\n",
       "      <td>-0.000814</td>\n",
       "      <td>-0.004554</td>\n",
       "      <td>-0.021955</td>\n",
       "      <td>0.075010</td>\n",
       "      <td>-0.559703</td>\n",
       "      <td>0.026224</td>\n",
       "    </tr>\n",
       "    <tr>\n",
       "      <th>price</th>\n",
       "      <td>0.101453</td>\n",
       "      <td>1.000000</td>\n",
       "      <td>0.419182</td>\n",
       "      <td>0.907578</td>\n",
       "      <td>-0.005469</td>\n",
       "      <td>0.049856</td>\n",
       "      <td>0.344204</td>\n",
       "      <td>0.144987</td>\n",
       "      <td>0.233147</td>\n",
       "      <td>0.174288</td>\n",
       "      <td>...</td>\n",
       "      <td>0.066376</td>\n",
       "      <td>0.037449</td>\n",
       "      <td>0.060285</td>\n",
       "      <td>-0.008765</td>\n",
       "      <td>0.012214</td>\n",
       "      <td>0.075226</td>\n",
       "      <td>-0.311424</td>\n",
       "      <td>0.544409</td>\n",
       "      <td>-0.122837</td>\n",
       "      <td>0.060778</td>\n",
       "    </tr>\n",
       "    <tr>\n",
       "      <th>freight_value</th>\n",
       "      <td>0.066446</td>\n",
       "      <td>0.419182</td>\n",
       "      <td>1.000000</td>\n",
       "      <td>0.451616</td>\n",
       "      <td>-0.034830</td>\n",
       "      <td>0.022761</td>\n",
       "      <td>0.614829</td>\n",
       "      <td>0.313992</td>\n",
       "      <td>0.390824</td>\n",
       "      <td>0.329392</td>\n",
       "      <td>...</td>\n",
       "      <td>0.083001</td>\n",
       "      <td>0.197795</td>\n",
       "      <td>0.214869</td>\n",
       "      <td>-0.044327</td>\n",
       "      <td>0.009459</td>\n",
       "      <td>0.283232</td>\n",
       "      <td>0.089782</td>\n",
       "      <td>0.329554</td>\n",
       "      <td>-0.090226</td>\n",
       "      <td>0.294224</td>\n",
       "    </tr>\n",
       "    <tr>\n",
       "      <th>payment_value</th>\n",
       "      <td>0.090290</td>\n",
       "      <td>0.907578</td>\n",
       "      <td>0.451616</td>\n",
       "      <td>1.000000</td>\n",
       "      <td>-0.041214</td>\n",
       "      <td>0.031092</td>\n",
       "      <td>0.363717</td>\n",
       "      <td>0.161321</td>\n",
       "      <td>0.247921</td>\n",
       "      <td>0.184823</td>\n",
       "      <td>...</td>\n",
       "      <td>0.075911</td>\n",
       "      <td>0.041531</td>\n",
       "      <td>0.068875</td>\n",
       "      <td>-0.018694</td>\n",
       "      <td>0.014319</td>\n",
       "      <td>0.095958</td>\n",
       "      <td>-0.270283</td>\n",
       "      <td>0.510715</td>\n",
       "      <td>-0.120008</td>\n",
       "      <td>0.077653</td>\n",
       "    </tr>\n",
       "    <tr>\n",
       "      <th>review_score</th>\n",
       "      <td>0.036858</td>\n",
       "      <td>-0.005469</td>\n",
       "      <td>-0.034830</td>\n",
       "      <td>-0.041214</td>\n",
       "      <td>1.000000</td>\n",
       "      <td>0.013936</td>\n",
       "      <td>-0.028948</td>\n",
       "      <td>-0.019486</td>\n",
       "      <td>-0.017095</td>\n",
       "      <td>-0.012193</td>\n",
       "      <td>...</td>\n",
       "      <td>-0.155726</td>\n",
       "      <td>-0.299629</td>\n",
       "      <td>-0.334266</td>\n",
       "      <td>-0.266721</td>\n",
       "      <td>-0.083190</td>\n",
       "      <td>-0.053010</td>\n",
       "      <td>-0.024718</td>\n",
       "      <td>-0.003092</td>\n",
       "      <td>-0.025043</td>\n",
       "      <td>-0.059291</td>\n",
       "    </tr>\n",
       "    <tr>\n",
       "      <th>product_photos_qty</th>\n",
       "      <td>0.016684</td>\n",
       "      <td>0.049856</td>\n",
       "      <td>0.022761</td>\n",
       "      <td>0.031092</td>\n",
       "      <td>0.013936</td>\n",
       "      <td>1.000000</td>\n",
       "      <td>0.028087</td>\n",
       "      <td>0.048256</td>\n",
       "      <td>-0.027482</td>\n",
       "      <td>0.011578</td>\n",
       "      <td>...</td>\n",
       "      <td>-0.040060</td>\n",
       "      <td>-0.013877</td>\n",
       "      <td>-0.026947</td>\n",
       "      <td>0.003663</td>\n",
       "      <td>0.019171</td>\n",
       "      <td>-0.033269</td>\n",
       "      <td>-0.058420</td>\n",
       "      <td>0.021533</td>\n",
       "      <td>-0.000867</td>\n",
       "      <td>-0.010948</td>\n",
       "    </tr>\n",
       "    <tr>\n",
       "      <th>product_weight_g</th>\n",
       "      <td>0.008784</td>\n",
       "      <td>0.344204</td>\n",
       "      <td>0.614829</td>\n",
       "      <td>0.363717</td>\n",
       "      <td>-0.028948</td>\n",
       "      <td>0.028087</td>\n",
       "      <td>1.000000</td>\n",
       "      <td>0.465043</td>\n",
       "      <td>0.581543</td>\n",
       "      <td>0.513984</td>\n",
       "      <td>...</td>\n",
       "      <td>0.138011</td>\n",
       "      <td>0.030355</td>\n",
       "      <td>0.079950</td>\n",
       "      <td>0.010089</td>\n",
       "      <td>0.015912</td>\n",
       "      <td>0.074693</td>\n",
       "      <td>-0.111725</td>\n",
       "      <td>0.337000</td>\n",
       "      <td>-0.059577</td>\n",
       "      <td>0.012155</td>\n",
       "    </tr>\n",
       "    <tr>\n",
       "      <th>product_length_cm</th>\n",
       "      <td>0.007856</td>\n",
       "      <td>0.144987</td>\n",
       "      <td>0.313992</td>\n",
       "      <td>0.161321</td>\n",
       "      <td>-0.019486</td>\n",
       "      <td>0.048256</td>\n",
       "      <td>0.465043</td>\n",
       "      <td>1.000000</td>\n",
       "      <td>0.193920</td>\n",
       "      <td>0.549324</td>\n",
       "      <td>...</td>\n",
       "      <td>0.083062</td>\n",
       "      <td>0.036119</td>\n",
       "      <td>0.064525</td>\n",
       "      <td>0.008642</td>\n",
       "      <td>0.007643</td>\n",
       "      <td>0.059706</td>\n",
       "      <td>-0.097485</td>\n",
       "      <td>0.160475</td>\n",
       "      <td>-0.021705</td>\n",
       "      <td>0.012467</td>\n",
       "    </tr>\n",
       "    <tr>\n",
       "      <th>product_height_cm</th>\n",
       "      <td>0.060536</td>\n",
       "      <td>0.233147</td>\n",
       "      <td>0.390824</td>\n",
       "      <td>0.247921</td>\n",
       "      <td>-0.017095</td>\n",
       "      <td>-0.027482</td>\n",
       "      <td>0.581543</td>\n",
       "      <td>0.193920</td>\n",
       "      <td>1.000000</td>\n",
       "      <td>0.287537</td>\n",
       "      <td>...</td>\n",
       "      <td>0.117669</td>\n",
       "      <td>0.018015</td>\n",
       "      <td>0.060516</td>\n",
       "      <td>-0.002914</td>\n",
       "      <td>0.014822</td>\n",
       "      <td>0.068719</td>\n",
       "      <td>-0.123031</td>\n",
       "      <td>0.249408</td>\n",
       "      <td>-0.054069</td>\n",
       "      <td>0.004133</td>\n",
       "    </tr>\n",
       "    <tr>\n",
       "      <th>product_width_cm</th>\n",
       "      <td>-0.015986</td>\n",
       "      <td>0.174288</td>\n",
       "      <td>0.329392</td>\n",
       "      <td>0.184823</td>\n",
       "      <td>-0.012193</td>\n",
       "      <td>0.011578</td>\n",
       "      <td>0.513984</td>\n",
       "      <td>0.549324</td>\n",
       "      <td>0.287537</td>\n",
       "      <td>1.000000</td>\n",
       "      <td>...</td>\n",
       "      <td>0.061657</td>\n",
       "      <td>0.019685</td>\n",
       "      <td>0.040909</td>\n",
       "      <td>-0.000467</td>\n",
       "      <td>0.006893</td>\n",
       "      <td>0.044719</td>\n",
       "      <td>-0.121080</td>\n",
       "      <td>0.171337</td>\n",
       "      <td>0.001588</td>\n",
       "      <td>0.003601</td>\n",
       "    </tr>\n",
       "    <tr>\n",
       "      <th>customer_zip_code_prefix</th>\n",
       "      <td>0.004273</td>\n",
       "      <td>0.042563</td>\n",
       "      <td>0.227602</td>\n",
       "      <td>0.057359</td>\n",
       "      <td>-0.021808</td>\n",
       "      <td>0.019742</td>\n",
       "      <td>0.002658</td>\n",
       "      <td>0.007300</td>\n",
       "      <td>0.007349</td>\n",
       "      <td>-0.009007</td>\n",
       "      <td>...</td>\n",
       "      <td>-0.000088</td>\n",
       "      <td>0.294041</td>\n",
       "      <td>0.273188</td>\n",
       "      <td>-0.073754</td>\n",
       "      <td>-0.006123</td>\n",
       "      <td>0.380192</td>\n",
       "      <td>0.138956</td>\n",
       "      <td>0.044426</td>\n",
       "      <td>0.002112</td>\n",
       "      <td>0.365677</td>\n",
       "    </tr>\n",
       "    <tr>\n",
       "      <th>seller_zip_code_prefix</th>\n",
       "      <td>0.175955</td>\n",
       "      <td>0.086632</td>\n",
       "      <td>0.161674</td>\n",
       "      <td>0.089400</td>\n",
       "      <td>0.024737</td>\n",
       "      <td>-0.045089</td>\n",
       "      <td>0.017528</td>\n",
       "      <td>0.041491</td>\n",
       "      <td>0.027875</td>\n",
       "      <td>-0.007389</td>\n",
       "      <td>...</td>\n",
       "      <td>0.010765</td>\n",
       "      <td>0.048626</td>\n",
       "      <td>0.048106</td>\n",
       "      <td>-0.118546</td>\n",
       "      <td>-0.008222</td>\n",
       "      <td>0.188837</td>\n",
       "      <td>-0.012854</td>\n",
       "      <td>0.112681</td>\n",
       "      <td>-0.118537</td>\n",
       "      <td>0.292481</td>\n",
       "    </tr>\n",
       "    <tr>\n",
       "      <th>weekday_order</th>\n",
       "      <td>-0.007132</td>\n",
       "      <td>0.000144</td>\n",
       "      <td>0.002335</td>\n",
       "      <td>-0.002574</td>\n",
       "      <td>-0.009848</td>\n",
       "      <td>0.001239</td>\n",
       "      <td>0.000099</td>\n",
       "      <td>0.001733</td>\n",
       "      <td>0.004383</td>\n",
       "      <td>0.004318</td>\n",
       "      <td>...</td>\n",
       "      <td>0.063846</td>\n",
       "      <td>0.000701</td>\n",
       "      <td>0.030544</td>\n",
       "      <td>-0.030641</td>\n",
       "      <td>0.072139</td>\n",
       "      <td>0.068367</td>\n",
       "      <td>0.005642</td>\n",
       "      <td>-0.003953</td>\n",
       "      <td>0.005863</td>\n",
       "      <td>0.011920</td>\n",
       "    </tr>\n",
       "    <tr>\n",
       "      <th>year_order</th>\n",
       "      <td>0.017792</td>\n",
       "      <td>-0.001870</td>\n",
       "      <td>0.036063</td>\n",
       "      <td>0.002659</td>\n",
       "      <td>-0.011116</td>\n",
       "      <td>-0.005201</td>\n",
       "      <td>-0.026037</td>\n",
       "      <td>-0.048642</td>\n",
       "      <td>-0.035724</td>\n",
       "      <td>-0.054476</td>\n",
       "      <td>...</td>\n",
       "      <td>-0.086611</td>\n",
       "      <td>-0.021602</td>\n",
       "      <td>-0.051687</td>\n",
       "      <td>0.069514</td>\n",
       "      <td>0.022100</td>\n",
       "      <td>-0.136086</td>\n",
       "      <td>0.009064</td>\n",
       "      <td>0.003240</td>\n",
       "      <td>-0.072411</td>\n",
       "      <td>-0.040562</td>\n",
       "    </tr>\n",
       "    <tr>\n",
       "      <th>monthday_order</th>\n",
       "      <td>-0.012692</td>\n",
       "      <td>-0.010189</td>\n",
       "      <td>-0.013294</td>\n",
       "      <td>-0.008039</td>\n",
       "      <td>-0.000056</td>\n",
       "      <td>0.001839</td>\n",
       "      <td>-0.003281</td>\n",
       "      <td>-0.007535</td>\n",
       "      <td>-0.003758</td>\n",
       "      <td>0.001917</td>\n",
       "      <td>...</td>\n",
       "      <td>-0.013227</td>\n",
       "      <td>0.003491</td>\n",
       "      <td>-0.000979</td>\n",
       "      <td>0.024967</td>\n",
       "      <td>-0.010365</td>\n",
       "      <td>-0.029887</td>\n",
       "      <td>0.005294</td>\n",
       "      <td>-0.010214</td>\n",
       "      <td>0.008677</td>\n",
       "      <td>-0.005641</td>\n",
       "    </tr>\n",
       "    <tr>\n",
       "      <th>month_order</th>\n",
       "      <td>0.004655</td>\n",
       "      <td>0.000442</td>\n",
       "      <td>0.006750</td>\n",
       "      <td>0.001885</td>\n",
       "      <td>0.030835</td>\n",
       "      <td>0.011246</td>\n",
       "      <td>-0.006872</td>\n",
       "      <td>-0.003717</td>\n",
       "      <td>0.015324</td>\n",
       "      <td>0.000878</td>\n",
       "      <td>...</td>\n",
       "      <td>0.025380</td>\n",
       "      <td>-0.070677</td>\n",
       "      <td>-0.054801</td>\n",
       "      <td>0.028696</td>\n",
       "      <td>0.008527</td>\n",
       "      <td>-0.092318</td>\n",
       "      <td>-0.013654</td>\n",
       "      <td>-0.001779</td>\n",
       "      <td>0.003779</td>\n",
       "      <td>-0.004203</td>\n",
       "    </tr>\n",
       "    <tr>\n",
       "      <th>hour_order</th>\n",
       "      <td>-0.009523</td>\n",
       "      <td>0.007791</td>\n",
       "      <td>0.006899</td>\n",
       "      <td>0.004316</td>\n",
       "      <td>0.004451</td>\n",
       "      <td>0.002762</td>\n",
       "      <td>0.010094</td>\n",
       "      <td>0.008077</td>\n",
       "      <td>0.006743</td>\n",
       "      <td>0.011030</td>\n",
       "      <td>...</td>\n",
       "      <td>0.006476</td>\n",
       "      <td>0.002925</td>\n",
       "      <td>0.002131</td>\n",
       "      <td>0.022946</td>\n",
       "      <td>0.005470</td>\n",
       "      <td>-0.024195</td>\n",
       "      <td>-0.007573</td>\n",
       "      <td>0.010393</td>\n",
       "      <td>0.002871</td>\n",
       "      <td>-0.003376</td>\n",
       "    </tr>\n",
       "    <tr>\n",
       "      <th>weekday_delivered</th>\n",
       "      <td>-0.005828</td>\n",
       "      <td>0.005162</td>\n",
       "      <td>-0.004777</td>\n",
       "      <td>0.002630</td>\n",
       "      <td>-0.013552</td>\n",
       "      <td>0.006165</td>\n",
       "      <td>0.013281</td>\n",
       "      <td>0.006685</td>\n",
       "      <td>0.011092</td>\n",
       "      <td>0.011246</td>\n",
       "      <td>...</td>\n",
       "      <td>0.005984</td>\n",
       "      <td>-0.031514</td>\n",
       "      <td>-0.026868</td>\n",
       "      <td>-0.008827</td>\n",
       "      <td>0.003782</td>\n",
       "      <td>-0.018823</td>\n",
       "      <td>-0.011827</td>\n",
       "      <td>-0.000057</td>\n",
       "      <td>0.005892</td>\n",
       "      <td>-0.031946</td>\n",
       "    </tr>\n",
       "    <tr>\n",
       "      <th>year_delivered</th>\n",
       "      <td>0.011430</td>\n",
       "      <td>-0.000412</td>\n",
       "      <td>0.044672</td>\n",
       "      <td>0.003799</td>\n",
       "      <td>-0.036709</td>\n",
       "      <td>-0.002361</td>\n",
       "      <td>-0.021867</td>\n",
       "      <td>-0.046212</td>\n",
       "      <td>-0.031780</td>\n",
       "      <td>-0.054605</td>\n",
       "      <td>...</td>\n",
       "      <td>-0.054434</td>\n",
       "      <td>0.043848</td>\n",
       "      <td>0.020850</td>\n",
       "      <td>0.105428</td>\n",
       "      <td>0.036122</td>\n",
       "      <td>-0.099220</td>\n",
       "      <td>0.010551</td>\n",
       "      <td>0.006970</td>\n",
       "      <td>-0.066765</td>\n",
       "      <td>-0.023337</td>\n",
       "    </tr>\n",
       "    <tr>\n",
       "      <th>monthday_delivered</th>\n",
       "      <td>0.007815</td>\n",
       "      <td>-0.004516</td>\n",
       "      <td>0.001517</td>\n",
       "      <td>-0.005786</td>\n",
       "      <td>0.005135</td>\n",
       "      <td>0.001608</td>\n",
       "      <td>-0.000870</td>\n",
       "      <td>-0.001208</td>\n",
       "      <td>-0.002609</td>\n",
       "      <td>0.000681</td>\n",
       "      <td>...</td>\n",
       "      <td>0.002934</td>\n",
       "      <td>-0.040681</td>\n",
       "      <td>-0.037342</td>\n",
       "      <td>-0.002145</td>\n",
       "      <td>0.016865</td>\n",
       "      <td>-0.037851</td>\n",
       "      <td>-0.004061</td>\n",
       "      <td>0.000665</td>\n",
       "      <td>-0.006361</td>\n",
       "      <td>-0.007450</td>\n",
       "    </tr>\n",
       "    <tr>\n",
       "      <th>month_delivered</th>\n",
       "      <td>0.011877</td>\n",
       "      <td>0.003066</td>\n",
       "      <td>0.010663</td>\n",
       "      <td>0.006355</td>\n",
       "      <td>0.046268</td>\n",
       "      <td>0.003272</td>\n",
       "      <td>-0.007561</td>\n",
       "      <td>-0.003134</td>\n",
       "      <td>0.013544</td>\n",
       "      <td>0.004668</td>\n",
       "      <td>...</td>\n",
       "      <td>0.000432</td>\n",
       "      <td>-0.101004</td>\n",
       "      <td>-0.091990</td>\n",
       "      <td>0.023834</td>\n",
       "      <td>-0.004075</td>\n",
       "      <td>-0.126865</td>\n",
       "      <td>-0.007944</td>\n",
       "      <td>-0.002569</td>\n",
       "      <td>-0.003612</td>\n",
       "      <td>-0.006598</td>\n",
       "    </tr>\n",
       "    <tr>\n",
       "      <th>hour_delivered</th>\n",
       "      <td>-0.005904</td>\n",
       "      <td>-0.007641</td>\n",
       "      <td>-0.005835</td>\n",
       "      <td>-0.009735</td>\n",
       "      <td>0.013482</td>\n",
       "      <td>-0.000196</td>\n",
       "      <td>-0.009551</td>\n",
       "      <td>-0.010620</td>\n",
       "      <td>-0.001081</td>\n",
       "      <td>-0.013117</td>\n",
       "      <td>...</td>\n",
       "      <td>-0.006561</td>\n",
       "      <td>-0.015411</td>\n",
       "      <td>-0.016118</td>\n",
       "      <td>0.021195</td>\n",
       "      <td>0.003114</td>\n",
       "      <td>-0.041881</td>\n",
       "      <td>-0.004298</td>\n",
       "      <td>-0.007395</td>\n",
       "      <td>0.007343</td>\n",
       "      <td>-0.000475</td>\n",
       "    </tr>\n",
       "    <tr>\n",
       "      <th>delta_dias_entrega_cliente</th>\n",
       "      <td>-0.033520</td>\n",
       "      <td>0.060589</td>\n",
       "      <td>0.214969</td>\n",
       "      <td>0.069139</td>\n",
       "      <td>-0.334142</td>\n",
       "      <td>-0.026849</td>\n",
       "      <td>0.080343</td>\n",
       "      <td>0.064902</td>\n",
       "      <td>0.060657</td>\n",
       "      <td>0.041440</td>\n",
       "      <td>...</td>\n",
       "      <td>0.385527</td>\n",
       "      <td>0.925172</td>\n",
       "      <td>0.999461</td>\n",
       "      <td>0.600752</td>\n",
       "      <td>0.161749</td>\n",
       "      <td>0.385684</td>\n",
       "      <td>0.079452</td>\n",
       "      <td>0.074514</td>\n",
       "      <td>0.026871</td>\n",
       "      <td>0.310756</td>\n",
       "    </tr>\n",
       "    <tr>\n",
       "      <th>delta_dias_responder_review</th>\n",
       "      <td>0.004398</td>\n",
       "      <td>-0.008282</td>\n",
       "      <td>-0.013648</td>\n",
       "      <td>-0.006926</td>\n",
       "      <td>0.102413</td>\n",
       "      <td>-0.002045</td>\n",
       "      <td>-0.004994</td>\n",
       "      <td>0.001437</td>\n",
       "      <td>-0.003597</td>\n",
       "      <td>-0.000580</td>\n",
       "      <td>...</td>\n",
       "      <td>-0.055566</td>\n",
       "      <td>-0.271602</td>\n",
       "      <td>-0.269532</td>\n",
       "      <td>-0.272474</td>\n",
       "      <td>-0.041799</td>\n",
       "      <td>0.023542</td>\n",
       "      <td>-0.002643</td>\n",
       "      <td>-0.008541</td>\n",
       "      <td>0.000715</td>\n",
       "      <td>-0.014383</td>\n",
       "    </tr>\n",
       "    <tr>\n",
       "      <th>delta_de_comprada_aprobada</th>\n",
       "      <td>-0.014159</td>\n",
       "      <td>0.013656</td>\n",
       "      <td>0.027924</td>\n",
       "      <td>0.028260</td>\n",
       "      <td>-0.015928</td>\n",
       "      <td>0.006711</td>\n",
       "      <td>0.008406</td>\n",
       "      <td>0.005410</td>\n",
       "      <td>0.002379</td>\n",
       "      <td>-0.000968</td>\n",
       "      <td>...</td>\n",
       "      <td>-0.049102</td>\n",
       "      <td>0.009650</td>\n",
       "      <td>0.081039</td>\n",
       "      <td>0.038259</td>\n",
       "      <td>-0.019708</td>\n",
       "      <td>0.043341</td>\n",
       "      <td>0.030965</td>\n",
       "      <td>-0.008147</td>\n",
       "      <td>0.000795</td>\n",
       "      <td>0.009942</td>\n",
       "    </tr>\n",
       "    <tr>\n",
       "      <th>delta_de_aprobada_logistica</th>\n",
       "      <td>-0.012783</td>\n",
       "      <td>0.066376</td>\n",
       "      <td>0.083001</td>\n",
       "      <td>0.075911</td>\n",
       "      <td>-0.155726</td>\n",
       "      <td>-0.040060</td>\n",
       "      <td>0.138011</td>\n",
       "      <td>0.083062</td>\n",
       "      <td>0.117669</td>\n",
       "      <td>0.061657</td>\n",
       "      <td>...</td>\n",
       "      <td>1.000000</td>\n",
       "      <td>0.019659</td>\n",
       "      <td>0.385597</td>\n",
       "      <td>0.188355</td>\n",
       "      <td>0.467132</td>\n",
       "      <td>0.198934</td>\n",
       "      <td>-0.019658</td>\n",
       "      <td>0.069168</td>\n",
       "      <td>-0.015888</td>\n",
       "      <td>0.011843</td>\n",
       "    </tr>\n",
       "    <tr>\n",
       "      <th>delta_de_logistica_cliente</th>\n",
       "      <td>-0.029898</td>\n",
       "      <td>0.037449</td>\n",
       "      <td>0.197795</td>\n",
       "      <td>0.041531</td>\n",
       "      <td>-0.299629</td>\n",
       "      <td>-0.013877</td>\n",
       "      <td>0.030355</td>\n",
       "      <td>0.036119</td>\n",
       "      <td>0.018015</td>\n",
       "      <td>0.019685</td>\n",
       "      <td>...</td>\n",
       "      <td>0.019659</td>\n",
       "      <td>1.000000</td>\n",
       "      <td>0.925637</td>\n",
       "      <td>0.575237</td>\n",
       "      <td>-0.011058</td>\n",
       "      <td>0.335420</td>\n",
       "      <td>0.091684</td>\n",
       "      <td>0.053598</td>\n",
       "      <td>0.035786</td>\n",
       "      <td>0.333329</td>\n",
       "    </tr>\n",
       "    <tr>\n",
       "      <th>delta_de_comprada_cliente</th>\n",
       "      <td>-0.033466</td>\n",
       "      <td>0.060285</td>\n",
       "      <td>0.214869</td>\n",
       "      <td>0.068875</td>\n",
       "      <td>-0.334266</td>\n",
       "      <td>-0.026947</td>\n",
       "      <td>0.079950</td>\n",
       "      <td>0.064525</td>\n",
       "      <td>0.060516</td>\n",
       "      <td>0.040909</td>\n",
       "      <td>...</td>\n",
       "      <td>0.385597</td>\n",
       "      <td>0.925637</td>\n",
       "      <td>1.000000</td>\n",
       "      <td>0.601281</td>\n",
       "      <td>0.161846</td>\n",
       "      <td>0.385655</td>\n",
       "      <td>0.079603</td>\n",
       "      <td>0.074167</td>\n",
       "      <td>0.026993</td>\n",
       "      <td>0.311118</td>\n",
       "    </tr>\n",
       "    <tr>\n",
       "      <th>delta_de_entrega_estimada</th>\n",
       "      <td>-0.027356</td>\n",
       "      <td>-0.008765</td>\n",
       "      <td>-0.044327</td>\n",
       "      <td>-0.018694</td>\n",
       "      <td>-0.266721</td>\n",
       "      <td>0.003663</td>\n",
       "      <td>0.010089</td>\n",
       "      <td>0.008642</td>\n",
       "      <td>-0.002914</td>\n",
       "      <td>-0.000467</td>\n",
       "      <td>...</td>\n",
       "      <td>0.188355</td>\n",
       "      <td>0.575237</td>\n",
       "      <td>0.601281</td>\n",
       "      <td>1.000000</td>\n",
       "      <td>0.269898</td>\n",
       "      <td>-0.505339</td>\n",
       "      <td>-0.032214</td>\n",
       "      <td>-0.014823</td>\n",
       "      <td>0.008612</td>\n",
       "      <td>-0.083750</td>\n",
       "    </tr>\n",
       "    <tr>\n",
       "      <th>delta_de_logistica_limit</th>\n",
       "      <td>-0.000814</td>\n",
       "      <td>0.012214</td>\n",
       "      <td>0.009459</td>\n",
       "      <td>0.014319</td>\n",
       "      <td>-0.083190</td>\n",
       "      <td>0.019171</td>\n",
       "      <td>0.015912</td>\n",
       "      <td>0.007643</td>\n",
       "      <td>0.014822</td>\n",
       "      <td>0.006893</td>\n",
       "      <td>...</td>\n",
       "      <td>0.467132</td>\n",
       "      <td>-0.011058</td>\n",
       "      <td>0.161846</td>\n",
       "      <td>0.269898</td>\n",
       "      <td>1.000000</td>\n",
       "      <td>-0.136864</td>\n",
       "      <td>-0.004124</td>\n",
       "      <td>0.010038</td>\n",
       "      <td>-0.012846</td>\n",
       "      <td>-0.002952</td>\n",
       "    </tr>\n",
       "    <tr>\n",
       "      <th>delta_de_estimada_compra</th>\n",
       "      <td>-0.004554</td>\n",
       "      <td>0.075226</td>\n",
       "      <td>0.283232</td>\n",
       "      <td>0.095958</td>\n",
       "      <td>-0.053010</td>\n",
       "      <td>-0.033269</td>\n",
       "      <td>0.074693</td>\n",
       "      <td>0.059706</td>\n",
       "      <td>0.068719</td>\n",
       "      <td>0.044719</td>\n",
       "      <td>...</td>\n",
       "      <td>0.198934</td>\n",
       "      <td>0.335420</td>\n",
       "      <td>0.385655</td>\n",
       "      <td>-0.505339</td>\n",
       "      <td>-0.136864</td>\n",
       "      <td>1.000000</td>\n",
       "      <td>0.123165</td>\n",
       "      <td>0.097213</td>\n",
       "      <td>0.019207</td>\n",
       "      <td>0.432698</td>\n",
       "    </tr>\n",
       "    <tr>\n",
       "      <th>precio_relativo_envío</th>\n",
       "      <td>-0.021955</td>\n",
       "      <td>-0.311424</td>\n",
       "      <td>0.089782</td>\n",
       "      <td>-0.270283</td>\n",
       "      <td>-0.024718</td>\n",
       "      <td>-0.058420</td>\n",
       "      <td>-0.111725</td>\n",
       "      <td>-0.097485</td>\n",
       "      <td>-0.123031</td>\n",
       "      <td>-0.121080</td>\n",
       "      <td>...</td>\n",
       "      <td>-0.019658</td>\n",
       "      <td>0.091684</td>\n",
       "      <td>0.079603</td>\n",
       "      <td>-0.032214</td>\n",
       "      <td>-0.004124</td>\n",
       "      <td>0.123165</td>\n",
       "      <td>1.000000</td>\n",
       "      <td>-0.370304</td>\n",
       "      <td>0.001164</td>\n",
       "      <td>0.132449</td>\n",
       "    </tr>\n",
       "    <tr>\n",
       "      <th>producto_caro</th>\n",
       "      <td>0.075010</td>\n",
       "      <td>0.544409</td>\n",
       "      <td>0.329554</td>\n",
       "      <td>0.510715</td>\n",
       "      <td>-0.003092</td>\n",
       "      <td>0.021533</td>\n",
       "      <td>0.337000</td>\n",
       "      <td>0.160475</td>\n",
       "      <td>0.249408</td>\n",
       "      <td>0.171337</td>\n",
       "      <td>...</td>\n",
       "      <td>0.069168</td>\n",
       "      <td>0.053598</td>\n",
       "      <td>0.074167</td>\n",
       "      <td>-0.014823</td>\n",
       "      <td>0.010038</td>\n",
       "      <td>0.097213</td>\n",
       "      <td>-0.370304</td>\n",
       "      <td>1.000000</td>\n",
       "      <td>-0.084590</td>\n",
       "      <td>0.076028</td>\n",
       "    </tr>\n",
       "    <tr>\n",
       "      <th>seller_experimentado</th>\n",
       "      <td>-0.559703</td>\n",
       "      <td>-0.122837</td>\n",
       "      <td>-0.090226</td>\n",
       "      <td>-0.120008</td>\n",
       "      <td>-0.025043</td>\n",
       "      <td>-0.000867</td>\n",
       "      <td>-0.059577</td>\n",
       "      <td>-0.021705</td>\n",
       "      <td>-0.054069</td>\n",
       "      <td>0.001588</td>\n",
       "      <td>...</td>\n",
       "      <td>-0.015888</td>\n",
       "      <td>0.035786</td>\n",
       "      <td>0.026993</td>\n",
       "      <td>0.008612</td>\n",
       "      <td>-0.012846</td>\n",
       "      <td>0.019207</td>\n",
       "      <td>0.001164</td>\n",
       "      <td>-0.084590</td>\n",
       "      <td>1.000000</td>\n",
       "      <td>-0.003047</td>\n",
       "    </tr>\n",
       "    <tr>\n",
       "      <th>distance_cust_sell_km</th>\n",
       "      <td>0.026224</td>\n",
       "      <td>0.060778</td>\n",
       "      <td>0.294224</td>\n",
       "      <td>0.077653</td>\n",
       "      <td>-0.059291</td>\n",
       "      <td>-0.010948</td>\n",
       "      <td>0.012155</td>\n",
       "      <td>0.012467</td>\n",
       "      <td>0.004133</td>\n",
       "      <td>0.003601</td>\n",
       "      <td>...</td>\n",
       "      <td>0.011843</td>\n",
       "      <td>0.333329</td>\n",
       "      <td>0.311118</td>\n",
       "      <td>-0.083750</td>\n",
       "      <td>-0.002952</td>\n",
       "      <td>0.432698</td>\n",
       "      <td>0.132449</td>\n",
       "      <td>0.076028</td>\n",
       "      <td>-0.003047</td>\n",
       "      <td>1.000000</td>\n",
       "    </tr>\n",
       "  </tbody>\n",
       "</table>\n",
       "<p>35 rows × 35 columns</p>\n",
       "</div>"
      ],
      "text/plain": [
       "                                index     price  freight_value  payment_value  \\\n",
       "index                        1.000000  0.101453       0.066446       0.090290   \n",
       "price                        0.101453  1.000000       0.419182       0.907578   \n",
       "freight_value                0.066446  0.419182       1.000000       0.451616   \n",
       "payment_value                0.090290  0.907578       0.451616       1.000000   \n",
       "review_score                 0.036858 -0.005469      -0.034830      -0.041214   \n",
       "product_photos_qty           0.016684  0.049856       0.022761       0.031092   \n",
       "product_weight_g             0.008784  0.344204       0.614829       0.363717   \n",
       "product_length_cm            0.007856  0.144987       0.313992       0.161321   \n",
       "product_height_cm            0.060536  0.233147       0.390824       0.247921   \n",
       "product_width_cm            -0.015986  0.174288       0.329392       0.184823   \n",
       "customer_zip_code_prefix     0.004273  0.042563       0.227602       0.057359   \n",
       "seller_zip_code_prefix       0.175955  0.086632       0.161674       0.089400   \n",
       "weekday_order               -0.007132  0.000144       0.002335      -0.002574   \n",
       "year_order                   0.017792 -0.001870       0.036063       0.002659   \n",
       "monthday_order              -0.012692 -0.010189      -0.013294      -0.008039   \n",
       "month_order                  0.004655  0.000442       0.006750       0.001885   \n",
       "hour_order                  -0.009523  0.007791       0.006899       0.004316   \n",
       "weekday_delivered           -0.005828  0.005162      -0.004777       0.002630   \n",
       "year_delivered               0.011430 -0.000412       0.044672       0.003799   \n",
       "monthday_delivered           0.007815 -0.004516       0.001517      -0.005786   \n",
       "month_delivered              0.011877  0.003066       0.010663       0.006355   \n",
       "hour_delivered              -0.005904 -0.007641      -0.005835      -0.009735   \n",
       "delta_dias_entrega_cliente  -0.033520  0.060589       0.214969       0.069139   \n",
       "delta_dias_responder_review  0.004398 -0.008282      -0.013648      -0.006926   \n",
       "delta_de_comprada_aprobada  -0.014159  0.013656       0.027924       0.028260   \n",
       "delta_de_aprobada_logistica -0.012783  0.066376       0.083001       0.075911   \n",
       "delta_de_logistica_cliente  -0.029898  0.037449       0.197795       0.041531   \n",
       "delta_de_comprada_cliente   -0.033466  0.060285       0.214869       0.068875   \n",
       "delta_de_entrega_estimada   -0.027356 -0.008765      -0.044327      -0.018694   \n",
       "delta_de_logistica_limit    -0.000814  0.012214       0.009459       0.014319   \n",
       "delta_de_estimada_compra    -0.004554  0.075226       0.283232       0.095958   \n",
       "precio_relativo_envío       -0.021955 -0.311424       0.089782      -0.270283   \n",
       "producto_caro                0.075010  0.544409       0.329554       0.510715   \n",
       "seller_experimentado        -0.559703 -0.122837      -0.090226      -0.120008   \n",
       "distance_cust_sell_km        0.026224  0.060778       0.294224       0.077653   \n",
       "\n",
       "                             review_score  product_photos_qty  \\\n",
       "index                            0.036858            0.016684   \n",
       "price                           -0.005469            0.049856   \n",
       "freight_value                   -0.034830            0.022761   \n",
       "payment_value                   -0.041214            0.031092   \n",
       "review_score                     1.000000            0.013936   \n",
       "product_photos_qty               0.013936            1.000000   \n",
       "product_weight_g                -0.028948            0.028087   \n",
       "product_length_cm               -0.019486            0.048256   \n",
       "product_height_cm               -0.017095           -0.027482   \n",
       "product_width_cm                -0.012193            0.011578   \n",
       "customer_zip_code_prefix        -0.021808            0.019742   \n",
       "seller_zip_code_prefix           0.024737           -0.045089   \n",
       "weekday_order                   -0.009848            0.001239   \n",
       "year_order                      -0.011116           -0.005201   \n",
       "monthday_order                  -0.000056            0.001839   \n",
       "month_order                      0.030835            0.011246   \n",
       "hour_order                       0.004451            0.002762   \n",
       "weekday_delivered               -0.013552            0.006165   \n",
       "year_delivered                  -0.036709           -0.002361   \n",
       "monthday_delivered               0.005135            0.001608   \n",
       "month_delivered                  0.046268            0.003272   \n",
       "hour_delivered                   0.013482           -0.000196   \n",
       "delta_dias_entrega_cliente      -0.334142           -0.026849   \n",
       "delta_dias_responder_review      0.102413           -0.002045   \n",
       "delta_de_comprada_aprobada      -0.015928            0.006711   \n",
       "delta_de_aprobada_logistica     -0.155726           -0.040060   \n",
       "delta_de_logistica_cliente      -0.299629           -0.013877   \n",
       "delta_de_comprada_cliente       -0.334266           -0.026947   \n",
       "delta_de_entrega_estimada       -0.266721            0.003663   \n",
       "delta_de_logistica_limit        -0.083190            0.019171   \n",
       "delta_de_estimada_compra        -0.053010           -0.033269   \n",
       "precio_relativo_envío           -0.024718           -0.058420   \n",
       "producto_caro                   -0.003092            0.021533   \n",
       "seller_experimentado            -0.025043           -0.000867   \n",
       "distance_cust_sell_km           -0.059291           -0.010948   \n",
       "\n",
       "                             product_weight_g  product_length_cm  \\\n",
       "index                                0.008784           0.007856   \n",
       "price                                0.344204           0.144987   \n",
       "freight_value                        0.614829           0.313992   \n",
       "payment_value                        0.363717           0.161321   \n",
       "review_score                        -0.028948          -0.019486   \n",
       "product_photos_qty                   0.028087           0.048256   \n",
       "product_weight_g                     1.000000           0.465043   \n",
       "product_length_cm                    0.465043           1.000000   \n",
       "product_height_cm                    0.581543           0.193920   \n",
       "product_width_cm                     0.513984           0.549324   \n",
       "customer_zip_code_prefix             0.002658           0.007300   \n",
       "seller_zip_code_prefix               0.017528           0.041491   \n",
       "weekday_order                        0.000099           0.001733   \n",
       "year_order                          -0.026037          -0.048642   \n",
       "monthday_order                      -0.003281          -0.007535   \n",
       "month_order                         -0.006872          -0.003717   \n",
       "hour_order                           0.010094           0.008077   \n",
       "weekday_delivered                    0.013281           0.006685   \n",
       "year_delivered                      -0.021867          -0.046212   \n",
       "monthday_delivered                  -0.000870          -0.001208   \n",
       "month_delivered                     -0.007561          -0.003134   \n",
       "hour_delivered                      -0.009551          -0.010620   \n",
       "delta_dias_entrega_cliente           0.080343           0.064902   \n",
       "delta_dias_responder_review         -0.004994           0.001437   \n",
       "delta_de_comprada_aprobada           0.008406           0.005410   \n",
       "delta_de_aprobada_logistica          0.138011           0.083062   \n",
       "delta_de_logistica_cliente           0.030355           0.036119   \n",
       "delta_de_comprada_cliente            0.079950           0.064525   \n",
       "delta_de_entrega_estimada            0.010089           0.008642   \n",
       "delta_de_logistica_limit             0.015912           0.007643   \n",
       "delta_de_estimada_compra             0.074693           0.059706   \n",
       "precio_relativo_envío               -0.111725          -0.097485   \n",
       "producto_caro                        0.337000           0.160475   \n",
       "seller_experimentado                -0.059577          -0.021705   \n",
       "distance_cust_sell_km                0.012155           0.012467   \n",
       "\n",
       "                             product_height_cm  product_width_cm  ...  \\\n",
       "index                                 0.060536         -0.015986  ...   \n",
       "price                                 0.233147          0.174288  ...   \n",
       "freight_value                         0.390824          0.329392  ...   \n",
       "payment_value                         0.247921          0.184823  ...   \n",
       "review_score                         -0.017095         -0.012193  ...   \n",
       "product_photos_qty                   -0.027482          0.011578  ...   \n",
       "product_weight_g                      0.581543          0.513984  ...   \n",
       "product_length_cm                     0.193920          0.549324  ...   \n",
       "product_height_cm                     1.000000          0.287537  ...   \n",
       "product_width_cm                      0.287537          1.000000  ...   \n",
       "customer_zip_code_prefix              0.007349         -0.009007  ...   \n",
       "seller_zip_code_prefix                0.027875         -0.007389  ...   \n",
       "weekday_order                         0.004383          0.004318  ...   \n",
       "year_order                           -0.035724         -0.054476  ...   \n",
       "monthday_order                       -0.003758          0.001917  ...   \n",
       "month_order                           0.015324          0.000878  ...   \n",
       "hour_order                            0.006743          0.011030  ...   \n",
       "weekday_delivered                     0.011092          0.011246  ...   \n",
       "year_delivered                       -0.031780         -0.054605  ...   \n",
       "monthday_delivered                   -0.002609          0.000681  ...   \n",
       "month_delivered                       0.013544          0.004668  ...   \n",
       "hour_delivered                       -0.001081         -0.013117  ...   \n",
       "delta_dias_entrega_cliente            0.060657          0.041440  ...   \n",
       "delta_dias_responder_review          -0.003597         -0.000580  ...   \n",
       "delta_de_comprada_aprobada            0.002379         -0.000968  ...   \n",
       "delta_de_aprobada_logistica           0.117669          0.061657  ...   \n",
       "delta_de_logistica_cliente            0.018015          0.019685  ...   \n",
       "delta_de_comprada_cliente             0.060516          0.040909  ...   \n",
       "delta_de_entrega_estimada            -0.002914         -0.000467  ...   \n",
       "delta_de_logistica_limit              0.014822          0.006893  ...   \n",
       "delta_de_estimada_compra              0.068719          0.044719  ...   \n",
       "precio_relativo_envío                -0.123031         -0.121080  ...   \n",
       "producto_caro                         0.249408          0.171337  ...   \n",
       "seller_experimentado                 -0.054069          0.001588  ...   \n",
       "distance_cust_sell_km                 0.004133          0.003601  ...   \n",
       "\n",
       "                             delta_de_aprobada_logistica  \\\n",
       "index                                          -0.012783   \n",
       "price                                           0.066376   \n",
       "freight_value                                   0.083001   \n",
       "payment_value                                   0.075911   \n",
       "review_score                                   -0.155726   \n",
       "product_photos_qty                             -0.040060   \n",
       "product_weight_g                                0.138011   \n",
       "product_length_cm                               0.083062   \n",
       "product_height_cm                               0.117669   \n",
       "product_width_cm                                0.061657   \n",
       "customer_zip_code_prefix                       -0.000088   \n",
       "seller_zip_code_prefix                          0.010765   \n",
       "weekday_order                                   0.063846   \n",
       "year_order                                     -0.086611   \n",
       "monthday_order                                 -0.013227   \n",
       "month_order                                     0.025380   \n",
       "hour_order                                      0.006476   \n",
       "weekday_delivered                               0.005984   \n",
       "year_delivered                                 -0.054434   \n",
       "monthday_delivered                              0.002934   \n",
       "month_delivered                                 0.000432   \n",
       "hour_delivered                                 -0.006561   \n",
       "delta_dias_entrega_cliente                      0.385527   \n",
       "delta_dias_responder_review                    -0.055566   \n",
       "delta_de_comprada_aprobada                     -0.049102   \n",
       "delta_de_aprobada_logistica                     1.000000   \n",
       "delta_de_logistica_cliente                      0.019659   \n",
       "delta_de_comprada_cliente                       0.385597   \n",
       "delta_de_entrega_estimada                       0.188355   \n",
       "delta_de_logistica_limit                        0.467132   \n",
       "delta_de_estimada_compra                        0.198934   \n",
       "precio_relativo_envío                          -0.019658   \n",
       "producto_caro                                   0.069168   \n",
       "seller_experimentado                           -0.015888   \n",
       "distance_cust_sell_km                           0.011843   \n",
       "\n",
       "                             delta_de_logistica_cliente  \\\n",
       "index                                         -0.029898   \n",
       "price                                          0.037449   \n",
       "freight_value                                  0.197795   \n",
       "payment_value                                  0.041531   \n",
       "review_score                                  -0.299629   \n",
       "product_photos_qty                            -0.013877   \n",
       "product_weight_g                               0.030355   \n",
       "product_length_cm                              0.036119   \n",
       "product_height_cm                              0.018015   \n",
       "product_width_cm                               0.019685   \n",
       "customer_zip_code_prefix                       0.294041   \n",
       "seller_zip_code_prefix                         0.048626   \n",
       "weekday_order                                  0.000701   \n",
       "year_order                                    -0.021602   \n",
       "monthday_order                                 0.003491   \n",
       "month_order                                   -0.070677   \n",
       "hour_order                                     0.002925   \n",
       "weekday_delivered                             -0.031514   \n",
       "year_delivered                                 0.043848   \n",
       "monthday_delivered                            -0.040681   \n",
       "month_delivered                               -0.101004   \n",
       "hour_delivered                                -0.015411   \n",
       "delta_dias_entrega_cliente                     0.925172   \n",
       "delta_dias_responder_review                   -0.271602   \n",
       "delta_de_comprada_aprobada                     0.009650   \n",
       "delta_de_aprobada_logistica                    0.019659   \n",
       "delta_de_logistica_cliente                     1.000000   \n",
       "delta_de_comprada_cliente                      0.925637   \n",
       "delta_de_entrega_estimada                      0.575237   \n",
       "delta_de_logistica_limit                      -0.011058   \n",
       "delta_de_estimada_compra                       0.335420   \n",
       "precio_relativo_envío                          0.091684   \n",
       "producto_caro                                  0.053598   \n",
       "seller_experimentado                           0.035786   \n",
       "distance_cust_sell_km                          0.333329   \n",
       "\n",
       "                             delta_de_comprada_cliente  \\\n",
       "index                                        -0.033466   \n",
       "price                                         0.060285   \n",
       "freight_value                                 0.214869   \n",
       "payment_value                                 0.068875   \n",
       "review_score                                 -0.334266   \n",
       "product_photos_qty                           -0.026947   \n",
       "product_weight_g                              0.079950   \n",
       "product_length_cm                             0.064525   \n",
       "product_height_cm                             0.060516   \n",
       "product_width_cm                              0.040909   \n",
       "customer_zip_code_prefix                      0.273188   \n",
       "seller_zip_code_prefix                        0.048106   \n",
       "weekday_order                                 0.030544   \n",
       "year_order                                   -0.051687   \n",
       "monthday_order                               -0.000979   \n",
       "month_order                                  -0.054801   \n",
       "hour_order                                    0.002131   \n",
       "weekday_delivered                            -0.026868   \n",
       "year_delivered                                0.020850   \n",
       "monthday_delivered                           -0.037342   \n",
       "month_delivered                              -0.091990   \n",
       "hour_delivered                               -0.016118   \n",
       "delta_dias_entrega_cliente                    0.999461   \n",
       "delta_dias_responder_review                  -0.269532   \n",
       "delta_de_comprada_aprobada                    0.081039   \n",
       "delta_de_aprobada_logistica                   0.385597   \n",
       "delta_de_logistica_cliente                    0.925637   \n",
       "delta_de_comprada_cliente                     1.000000   \n",
       "delta_de_entrega_estimada                     0.601281   \n",
       "delta_de_logistica_limit                      0.161846   \n",
       "delta_de_estimada_compra                      0.385655   \n",
       "precio_relativo_envío                         0.079603   \n",
       "producto_caro                                 0.074167   \n",
       "seller_experimentado                          0.026993   \n",
       "distance_cust_sell_km                         0.311118   \n",
       "\n",
       "                             delta_de_entrega_estimada  \\\n",
       "index                                        -0.027356   \n",
       "price                                        -0.008765   \n",
       "freight_value                                -0.044327   \n",
       "payment_value                                -0.018694   \n",
       "review_score                                 -0.266721   \n",
       "product_photos_qty                            0.003663   \n",
       "product_weight_g                              0.010089   \n",
       "product_length_cm                             0.008642   \n",
       "product_height_cm                            -0.002914   \n",
       "product_width_cm                             -0.000467   \n",
       "customer_zip_code_prefix                     -0.073754   \n",
       "seller_zip_code_prefix                       -0.118546   \n",
       "weekday_order                                -0.030641   \n",
       "year_order                                    0.069514   \n",
       "monthday_order                                0.024967   \n",
       "month_order                                   0.028696   \n",
       "hour_order                                    0.022946   \n",
       "weekday_delivered                            -0.008827   \n",
       "year_delivered                                0.105428   \n",
       "monthday_delivered                           -0.002145   \n",
       "month_delivered                               0.023834   \n",
       "hour_delivered                                0.021195   \n",
       "delta_dias_entrega_cliente                    0.600752   \n",
       "delta_dias_responder_review                  -0.272474   \n",
       "delta_de_comprada_aprobada                    0.038259   \n",
       "delta_de_aprobada_logistica                   0.188355   \n",
       "delta_de_logistica_cliente                    0.575237   \n",
       "delta_de_comprada_cliente                     0.601281   \n",
       "delta_de_entrega_estimada                     1.000000   \n",
       "delta_de_logistica_limit                      0.269898   \n",
       "delta_de_estimada_compra                     -0.505339   \n",
       "precio_relativo_envío                        -0.032214   \n",
       "producto_caro                                -0.014823   \n",
       "seller_experimentado                          0.008612   \n",
       "distance_cust_sell_km                        -0.083750   \n",
       "\n",
       "                             delta_de_logistica_limit  \\\n",
       "index                                       -0.000814   \n",
       "price                                        0.012214   \n",
       "freight_value                                0.009459   \n",
       "payment_value                                0.014319   \n",
       "review_score                                -0.083190   \n",
       "product_photos_qty                           0.019171   \n",
       "product_weight_g                             0.015912   \n",
       "product_length_cm                            0.007643   \n",
       "product_height_cm                            0.014822   \n",
       "product_width_cm                             0.006893   \n",
       "customer_zip_code_prefix                    -0.006123   \n",
       "seller_zip_code_prefix                      -0.008222   \n",
       "weekday_order                                0.072139   \n",
       "year_order                                   0.022100   \n",
       "monthday_order                              -0.010365   \n",
       "month_order                                  0.008527   \n",
       "hour_order                                   0.005470   \n",
       "weekday_delivered                            0.003782   \n",
       "year_delivered                               0.036122   \n",
       "monthday_delivered                           0.016865   \n",
       "month_delivered                             -0.004075   \n",
       "hour_delivered                               0.003114   \n",
       "delta_dias_entrega_cliente                   0.161749   \n",
       "delta_dias_responder_review                 -0.041799   \n",
       "delta_de_comprada_aprobada                  -0.019708   \n",
       "delta_de_aprobada_logistica                  0.467132   \n",
       "delta_de_logistica_cliente                  -0.011058   \n",
       "delta_de_comprada_cliente                    0.161846   \n",
       "delta_de_entrega_estimada                    0.269898   \n",
       "delta_de_logistica_limit                     1.000000   \n",
       "delta_de_estimada_compra                    -0.136864   \n",
       "precio_relativo_envío                       -0.004124   \n",
       "producto_caro                                0.010038   \n",
       "seller_experimentado                        -0.012846   \n",
       "distance_cust_sell_km                       -0.002952   \n",
       "\n",
       "                             delta_de_estimada_compra  precio_relativo_envío  \\\n",
       "index                                       -0.004554              -0.021955   \n",
       "price                                        0.075226              -0.311424   \n",
       "freight_value                                0.283232               0.089782   \n",
       "payment_value                                0.095958              -0.270283   \n",
       "review_score                                -0.053010              -0.024718   \n",
       "product_photos_qty                          -0.033269              -0.058420   \n",
       "product_weight_g                             0.074693              -0.111725   \n",
       "product_length_cm                            0.059706              -0.097485   \n",
       "product_height_cm                            0.068719              -0.123031   \n",
       "product_width_cm                             0.044719              -0.121080   \n",
       "customer_zip_code_prefix                     0.380192               0.138956   \n",
       "seller_zip_code_prefix                       0.188837              -0.012854   \n",
       "weekday_order                                0.068367               0.005642   \n",
       "year_order                                  -0.136086               0.009064   \n",
       "monthday_order                              -0.029887               0.005294   \n",
       "month_order                                 -0.092318              -0.013654   \n",
       "hour_order                                  -0.024195              -0.007573   \n",
       "weekday_delivered                           -0.018823              -0.011827   \n",
       "year_delivered                              -0.099220               0.010551   \n",
       "monthday_delivered                          -0.037851              -0.004061   \n",
       "month_delivered                             -0.126865              -0.007944   \n",
       "hour_delivered                              -0.041881              -0.004298   \n",
       "delta_dias_entrega_cliente                   0.385684               0.079452   \n",
       "delta_dias_responder_review                  0.023542              -0.002643   \n",
       "delta_de_comprada_aprobada                   0.043341               0.030965   \n",
       "delta_de_aprobada_logistica                  0.198934              -0.019658   \n",
       "delta_de_logistica_cliente                   0.335420               0.091684   \n",
       "delta_de_comprada_cliente                    0.385655               0.079603   \n",
       "delta_de_entrega_estimada                   -0.505339              -0.032214   \n",
       "delta_de_logistica_limit                    -0.136864              -0.004124   \n",
       "delta_de_estimada_compra                     1.000000               0.123165   \n",
       "precio_relativo_envío                        0.123165               1.000000   \n",
       "producto_caro                                0.097213              -0.370304   \n",
       "seller_experimentado                         0.019207               0.001164   \n",
       "distance_cust_sell_km                        0.432698               0.132449   \n",
       "\n",
       "                             producto_caro  seller_experimentado  \\\n",
       "index                             0.075010             -0.559703   \n",
       "price                             0.544409             -0.122837   \n",
       "freight_value                     0.329554             -0.090226   \n",
       "payment_value                     0.510715             -0.120008   \n",
       "review_score                     -0.003092             -0.025043   \n",
       "product_photos_qty                0.021533             -0.000867   \n",
       "product_weight_g                  0.337000             -0.059577   \n",
       "product_length_cm                 0.160475             -0.021705   \n",
       "product_height_cm                 0.249408             -0.054069   \n",
       "product_width_cm                  0.171337              0.001588   \n",
       "customer_zip_code_prefix          0.044426              0.002112   \n",
       "seller_zip_code_prefix            0.112681             -0.118537   \n",
       "weekday_order                    -0.003953              0.005863   \n",
       "year_order                        0.003240             -0.072411   \n",
       "monthday_order                   -0.010214              0.008677   \n",
       "month_order                      -0.001779              0.003779   \n",
       "hour_order                        0.010393              0.002871   \n",
       "weekday_delivered                -0.000057              0.005892   \n",
       "year_delivered                    0.006970             -0.066765   \n",
       "monthday_delivered                0.000665             -0.006361   \n",
       "month_delivered                  -0.002569             -0.003612   \n",
       "hour_delivered                   -0.007395              0.007343   \n",
       "delta_dias_entrega_cliente        0.074514              0.026871   \n",
       "delta_dias_responder_review      -0.008541              0.000715   \n",
       "delta_de_comprada_aprobada       -0.008147              0.000795   \n",
       "delta_de_aprobada_logistica       0.069168             -0.015888   \n",
       "delta_de_logistica_cliente        0.053598              0.035786   \n",
       "delta_de_comprada_cliente         0.074167              0.026993   \n",
       "delta_de_entrega_estimada        -0.014823              0.008612   \n",
       "delta_de_logistica_limit          0.010038             -0.012846   \n",
       "delta_de_estimada_compra          0.097213              0.019207   \n",
       "precio_relativo_envío            -0.370304              0.001164   \n",
       "producto_caro                     1.000000             -0.084590   \n",
       "seller_experimentado             -0.084590              1.000000   \n",
       "distance_cust_sell_km             0.076028             -0.003047   \n",
       "\n",
       "                             distance_cust_sell_km  \n",
       "index                                     0.026224  \n",
       "price                                     0.060778  \n",
       "freight_value                             0.294224  \n",
       "payment_value                             0.077653  \n",
       "review_score                             -0.059291  \n",
       "product_photos_qty                       -0.010948  \n",
       "product_weight_g                          0.012155  \n",
       "product_length_cm                         0.012467  \n",
       "product_height_cm                         0.004133  \n",
       "product_width_cm                          0.003601  \n",
       "customer_zip_code_prefix                  0.365677  \n",
       "seller_zip_code_prefix                    0.292481  \n",
       "weekday_order                             0.011920  \n",
       "year_order                               -0.040562  \n",
       "monthday_order                           -0.005641  \n",
       "month_order                              -0.004203  \n",
       "hour_order                               -0.003376  \n",
       "weekday_delivered                        -0.031946  \n",
       "year_delivered                           -0.023337  \n",
       "monthday_delivered                       -0.007450  \n",
       "month_delivered                          -0.006598  \n",
       "hour_delivered                           -0.000475  \n",
       "delta_dias_entrega_cliente                0.310756  \n",
       "delta_dias_responder_review              -0.014383  \n",
       "delta_de_comprada_aprobada                0.009942  \n",
       "delta_de_aprobada_logistica               0.011843  \n",
       "delta_de_logistica_cliente                0.333329  \n",
       "delta_de_comprada_cliente                 0.311118  \n",
       "delta_de_entrega_estimada                -0.083750  \n",
       "delta_de_logistica_limit                 -0.002952  \n",
       "delta_de_estimada_compra                  0.432698  \n",
       "precio_relativo_envío                     0.132449  \n",
       "producto_caro                             0.076028  \n",
       "seller_experimentado                     -0.003047  \n",
       "distance_cust_sell_km                     1.000000  \n",
       "\n",
       "[35 rows x 35 columns]"
      ]
     },
     "execution_count": 92,
     "metadata": {},
     "output_type": "execute_result"
    }
   ],
   "source": [
    "corr_df"
   ]
  },
  {
   "cell_type": "markdown",
   "id": "22aabc3d-f9bf-45a7-b204-1308ec780033",
   "metadata": {},
   "source": [
    "Respecto al target,  no hay alguna correlación fuerte que indique eliminar una variable en particular de nuestro modelo."
   ]
  },
  {
   "cell_type": "markdown",
   "id": "a0c42f7d-b50a-432d-9152-6affd4611de0",
   "metadata": {},
   "source": [
    "   "
   ]
  },
  {
   "cell_type": "markdown",
   "id": "296fd095-7663-456e-ba18-728fb580386c",
   "metadata": {},
   "source": [
    "**Eliminamos columnas que no utilizaremos**"
   ]
  },
  {
   "cell_type": "code",
   "execution_count": 93,
   "id": "6cd5d151-f144-4071-8f46-0d6bd0689834",
   "metadata": {},
   "outputs": [],
   "source": [
    "drop_elements=['index', 'customer_unique_id',\n",
    "       'seller_id']\n",
    "df_full = df_full.drop(drop_elements, axis = 1)"
   ]
  },
  {
   "cell_type": "code",
   "execution_count": 94,
   "id": "a91b76f2-a983-456a-a7c3-5d1b2dabf0c0",
   "metadata": {},
   "outputs": [
    {
     "data": {
      "text/plain": [
       "(95815, 41)"
      ]
     },
     "execution_count": 94,
     "metadata": {},
     "output_type": "execute_result"
    }
   ],
   "source": [
    "df_full.shape"
   ]
  },
  {
   "cell_type": "code",
   "execution_count": 95,
   "id": "86971df8-b224-4ed9-bb86-0acde0c2c8ea",
   "metadata": {},
   "outputs": [
    {
     "data": {
      "text/plain": [
       "Index(['order_status', 'price', 'freight_value', 'payment_type',\n",
       "       'payment_value', 'review_score', 'product_category_name',\n",
       "       'product_photos_qty', 'product_weight_g', 'product_length_cm',\n",
       "       'product_height_cm', 'product_width_cm', 'customer_zip_code_prefix',\n",
       "       'customer_city', 'customer_state', 'seller_zip_code_prefix',\n",
       "       'seller_city', 'seller_state', 'weekday_order', 'year_order',\n",
       "       'monthday_order', 'month_order', 'hour_order', 'weekday_delivered',\n",
       "       'year_delivered', 'monthday_delivered', 'month_delivered',\n",
       "       'hour_delivered', 'delta_dias_entrega_cliente',\n",
       "       'delta_dias_responder_review', 'delta_de_comprada_aprobada',\n",
       "       'delta_de_aprobada_logistica', 'delta_de_logistica_cliente',\n",
       "       'delta_de_comprada_cliente', 'delta_de_entrega_estimada',\n",
       "       'delta_de_logistica_limit', 'delta_de_estimada_compra',\n",
       "       'precio_relativo_envío', 'producto_caro', 'seller_experimentado',\n",
       "       'distance_cust_sell_km'],\n",
       "      dtype='object')"
      ]
     },
     "execution_count": 95,
     "metadata": {},
     "output_type": "execute_result"
    }
   ],
   "source": [
    "df_full.columns"
   ]
  },
  {
   "cell_type": "markdown",
   "id": "eae5ad88-bfdb-407d-b416-9bf6c3e8959d",
   "metadata": {},
   "source": [
    "[Volver al menu](#top)"
   ]
  },
  {
   "cell_type": "markdown",
   "id": "c5d038b0-3bb9-456f-9164-8233d41e5057",
   "metadata": {},
   "source": [
    "### División Target Review Score en Postivos y Negativos <a id=\"target\"></a>"
   ]
  },
  {
   "cell_type": "code",
   "execution_count": 96,
   "id": "4dcb6cd5-ebd8-472b-b9aa-e16ba4d28c93",
   "metadata": {},
   "outputs": [],
   "source": [
    "labels = []\n",
    "for score in df_full['review_score']:\n",
    "    if score > 3:\n",
    "        labels.append(1)\n",
    "        \n",
    "    else:\n",
    "        labels.append(0)\n"
   ]
  },
  {
   "cell_type": "code",
   "execution_count": 97,
   "id": "60b3f73c-ac21-42d3-989f-9b0f1d935243",
   "metadata": {},
   "outputs": [],
   "source": [
    "full_df = df_full   \n",
    "full_df['review_score'] = labels"
   ]
  },
  {
   "cell_type": "code",
   "execution_count": 98,
   "id": "a380c41c-d8c9-46c2-856e-3692d1ab70f0",
   "metadata": {},
   "outputs": [
    {
     "data": {
      "text/plain": [
       "1    75638\n",
       "0    20177\n",
       "Name: review_score, dtype: int64"
      ]
     },
     "execution_count": 98,
     "metadata": {},
     "output_type": "execute_result"
    }
   ],
   "source": [
    "full_df[\"review_score\"].value_counts()"
   ]
  },
  {
   "cell_type": "code",
   "execution_count": 99,
   "id": "08b7780c-2c72-4746-ba40-0661507a7ebd",
   "metadata": {},
   "outputs": [
    {
     "data": {
      "text/plain": [
       "1    0.789417\n",
       "0    0.210583\n",
       "Name: review_score, dtype: float64"
      ]
     },
     "execution_count": 99,
     "metadata": {},
     "output_type": "execute_result"
    }
   ],
   "source": [
    "full_df['review_score'].value_counts()/np.float(len(full_df))"
   ]
  },
  {
   "cell_type": "code",
   "execution_count": 100,
   "id": "b862ae04-16bd-40e4-8b9c-2a2e7d81a100",
   "metadata": {},
   "outputs": [
    {
     "data": {
      "text/plain": [
       "Index(['order_status', 'price', 'freight_value', 'payment_type',\n",
       "       'payment_value', 'review_score', 'product_category_name',\n",
       "       'product_photos_qty', 'product_weight_g', 'product_length_cm',\n",
       "       'product_height_cm', 'product_width_cm', 'customer_zip_code_prefix',\n",
       "       'customer_city', 'customer_state', 'seller_zip_code_prefix',\n",
       "       'seller_city', 'seller_state', 'weekday_order', 'year_order',\n",
       "       'monthday_order', 'month_order', 'hour_order', 'weekday_delivered',\n",
       "       'year_delivered', 'monthday_delivered', 'month_delivered',\n",
       "       'hour_delivered', 'delta_dias_entrega_cliente',\n",
       "       'delta_dias_responder_review', 'delta_de_comprada_aprobada',\n",
       "       'delta_de_aprobada_logistica', 'delta_de_logistica_cliente',\n",
       "       'delta_de_comprada_cliente', 'delta_de_entrega_estimada',\n",
       "       'delta_de_logistica_limit', 'delta_de_estimada_compra',\n",
       "       'precio_relativo_envío', 'producto_caro', 'seller_experimentado',\n",
       "       'distance_cust_sell_km'],\n",
       "      dtype='object')"
      ]
     },
     "execution_count": 100,
     "metadata": {},
     "output_type": "execute_result"
    }
   ],
   "source": [
    "full_df.columns"
   ]
  },
  {
   "cell_type": "code",
   "execution_count": 101,
   "id": "5cdf427f-c081-45e9-b209-2505c69d9b05",
   "metadata": {},
   "outputs": [
    {
     "data": {
      "text/plain": [
       "(95815, 41)"
      ]
     },
     "execution_count": 101,
     "metadata": {},
     "output_type": "execute_result"
    }
   ],
   "source": [
    "full_df.shape"
   ]
  },
  {
   "cell_type": "markdown",
   "id": "8bca694c-984e-4e9a-bb0a-d44cebdac8ea",
   "metadata": {},
   "source": [
    "    "
   ]
  },
  {
   "cell_type": "markdown",
   "id": "3168ed6d-0ea6-4d61-a194-4b6ac934b5e2",
   "metadata": {},
   "source": [
    "**Variables Categoricas / Variables Numericas**"
   ]
  },
  {
   "cell_type": "code",
   "execution_count": 102,
   "id": "e44ffc49-ba7d-40ed-9f2f-24899a7467b1",
   "metadata": {},
   "outputs": [],
   "source": [
    "categorical=['customer_city', 'customer_state','seller_city', 'seller_state','order_status','payment_type','product_category_name'] \n",
    "columnas_num=['price', 'freight_value', 'payment_value',\n",
    "       'product_photos_qty', 'product_weight_g',\n",
    "       'product_length_cm', 'product_height_cm', 'product_width_cm',\n",
    "       'customer_zip_code_prefix', 'seller_zip_code_prefix', 'weekday_order',\n",
    "       'year_order', 'monthday_order', 'month_order', 'hour_order',\n",
    "       'weekday_delivered', 'year_delivered', 'monthday_delivered',\n",
    "       'month_delivered', 'hour_delivered', 'delta_dias_entrega_cliente',\n",
    "       'delta_dias_responder_review', 'delta_de_comprada_aprobada',\n",
    "       'delta_de_aprobada_logistica', 'delta_de_logistica_cliente',\n",
    "       'delta_de_comprada_cliente', 'delta_de_entrega_estimada',\n",
    "       'precio_relativo_envío', 'delta_de_logistica_limit',\n",
    "       'delta_de_estimada_compra', 'producto_caro', 'seller_experimentado',\n",
    "       'distance_cust_sell_km']"
   ]
  },
  {
   "cell_type": "code",
   "execution_count": 103,
   "id": "02880e86-bee9-40ce-b5f8-2fc200ec1d14",
   "metadata": {},
   "outputs": [
    {
     "data": {
      "text/plain": [
       "order_status                   category\n",
       "price                           float64\n",
       "freight_value                   float64\n",
       "payment_type                   category\n",
       "payment_value                   float64\n",
       "review_score                      int64\n",
       "product_category_name          category\n",
       "product_photos_qty              float64\n",
       "product_weight_g                float64\n",
       "product_length_cm               float64\n",
       "product_height_cm               float64\n",
       "product_width_cm                float64\n",
       "customer_zip_code_prefix          int64\n",
       "customer_city                  category\n",
       "customer_state                 category\n",
       "seller_zip_code_prefix          float64\n",
       "seller_city                    category\n",
       "seller_state                   category\n",
       "weekday_order                     int64\n",
       "year_order                        int64\n",
       "monthday_order                    int64\n",
       "month_order                       int64\n",
       "hour_order                        int64\n",
       "weekday_delivered                 int64\n",
       "year_delivered                    int64\n",
       "monthday_delivered                int64\n",
       "month_delivered                   int64\n",
       "hour_delivered                    int64\n",
       "delta_dias_entrega_cliente      float64\n",
       "delta_dias_responder_review     float64\n",
       "delta_de_comprada_aprobada      float64\n",
       "delta_de_aprobada_logistica     float64\n",
       "delta_de_logistica_cliente      float64\n",
       "delta_de_comprada_cliente       float64\n",
       "delta_de_entrega_estimada       float64\n",
       "delta_de_logistica_limit        float64\n",
       "delta_de_estimada_compra        float64\n",
       "precio_relativo_envío           float64\n",
       "producto_caro                     int32\n",
       "seller_experimentado              int32\n",
       "distance_cust_sell_km           float64\n",
       "dtype: object"
      ]
     },
     "execution_count": 103,
     "metadata": {},
     "output_type": "execute_result"
    }
   ],
   "source": [
    "full_df[categorical]=full_df[categorical].astype('category')\n",
    "full_df.dtypes"
   ]
  },
  {
   "cell_type": "markdown",
   "id": "00e14c74-00d4-454d-8831-2dad32139f9c",
   "metadata": {},
   "source": [
    "   "
   ]
  },
  {
   "cell_type": "markdown",
   "id": "45b4385a-ef4a-429c-957e-ddb9a648dab9",
   "metadata": {},
   "source": [
    "**Eliminamos posibles nan**"
   ]
  },
  {
   "cell_type": "code",
   "execution_count": 104,
   "id": "6a785edf-e885-41b8-af36-ac6e1a424a2b",
   "metadata": {},
   "outputs": [],
   "source": [
    "full_df = full_df.dropna(axis =0 , how = 'any')"
   ]
  },
  {
   "cell_type": "markdown",
   "id": "9a695da7-0b44-480b-aafe-608981e24fff",
   "metadata": {},
   "source": [
    "[Volver al menu](#top)"
   ]
  },
  {
   "cell_type": "markdown",
   "id": "0b9d717c-0aed-4c2d-9824-f542b3849aba",
   "metadata": {},
   "source": [
    "## Funciones modelaje <a id=\"funcionesmodelaje\"></a>"
   ]
  },
  {
   "cell_type": "markdown",
   "id": "e08a2a95-713f-4759-a9b0-377ce6a03567",
   "metadata": {},
   "source": [
    "* Veremos el balance de clases en el dataset con un value counts de la columna review_score\n",
    "* Haceremos un train-test-split estratificado\n",
    "* Convertiremos las variables categoricas a dummy. Conviene que nos quedemos con una versión no dummy del dataset de entrenamiento puesto que luego usaremos SMOTENC\n",
    "* Armararemos una función que tome como input un modelo entrenado y un dataset de testeo e imprima las métricas más importantes para evaluar clasificación (classification_report, matriz de confución, area bajo las curvas ROC y Precision-Recall)\n",
    "* Instanciaremos un modelo Random Forest, lo entrenaremos y evaluaremos en el dataset de testeo"
   ]
  },
  {
   "cell_type": "code",
   "execution_count": null,
   "id": "d77df7e5-ce8e-4883-8c59-cf18ec88dac8",
   "metadata": {},
   "outputs": [],
   "source": []
  },
  {
   "cell_type": "markdown",
   "id": "38c1998d-7666-46aa-b0b0-2bc42181eea8",
   "metadata": {},
   "source": [
    "### Balance de Clases <a id=\"balanceclases\"></a>"
   ]
  },
  {
   "cell_type": "code",
   "execution_count": 105,
   "id": "d415ff4d-3e01-4a50-8e66-8b9f75373523",
   "metadata": {},
   "outputs": [],
   "source": [
    "def evaluate_model(model,X,y_true):\n",
    "    '''\n",
    "    Calcula las métricas ppales para evaluar un clasificador\n",
    "    Toma como imput el modelo entrenado, el dataset de testeo y sus etiquetas\n",
    "    '''\n",
    "    y_pred=model.predict(X)\n",
    "    y_proba=model.predict_proba(X)\n",
    "\n",
    "    print(classification_report(y_true,y_pred))\n",
    "    print('Area bajo la curva ROC:',np.round(roc_auc_score(y_true,y_proba[:,1]),4))\n",
    "    precision, recall,threshold=precision_recall_curve(y_true,y_proba[:,1]);\n",
    "    print('Area bajo la curva Precision-Recall:',np.round(auc(recall,precision),4))\n",
    "    plot_confusion_matrix(model,X,y_true,cmap='BuPu');\n",
    "    return"
   ]
  },
  {
   "cell_type": "code",
   "execution_count": 106,
   "id": "9a8806e6-dfac-4eb9-96e2-0763136af295",
   "metadata": {},
   "outputs": [
    {
     "data": {
      "text/plain": [
       "1    0.789698\n",
       "0    0.210302\n",
       "Name: review_score, dtype: float64"
      ]
     },
     "execution_count": 106,
     "metadata": {},
     "output_type": "execute_result"
    }
   ],
   "source": [
    "full_df['review_score'].value_counts(normalize=True)"
   ]
  },
  {
   "cell_type": "markdown",
   "id": "c03f0b66-2d87-4c0e-a20e-801e0de17bd8",
   "metadata": {},
   "source": [
    "[Volver al menu](#top)"
   ]
  },
  {
   "cell_type": "markdown",
   "id": "c07ee20e-44d3-4f51-b2c0-02229a579c36",
   "metadata": {},
   "source": [
    "#### División Train Split  <a id=\"split\"></a> "
   ]
  },
  {
   "cell_type": "code",
   "execution_count": 107,
   "id": "9f704846-fcba-496b-b524-269dace39763",
   "metadata": {},
   "outputs": [],
   "source": [
    "# Train test split\n",
    "\n",
    "X_train,X_test,y_train,y_test=train_test_split(full_df.drop('review_score',axis=1),full_df['review_score'],\\\n",
    "                                               stratify=full_df['review_score'],random_state=0,test_size=0.2)\n"
   ]
  },
  {
   "cell_type": "code",
   "execution_count": 108,
   "id": "9e99cb60-3dbb-4615-8658-3f0036e18ca5",
   "metadata": {},
   "outputs": [
    {
     "data": {
      "text/plain": [
       "((18894, 40), (75575, 40))"
      ]
     },
     "execution_count": 108,
     "metadata": {},
     "output_type": "execute_result"
    }
   ],
   "source": [
    "X_test.shape,X_train.shape"
   ]
  },
  {
   "cell_type": "code",
   "execution_count": 109,
   "id": "4dabb448-1b9c-4478-9c3f-f3db5f836105",
   "metadata": {},
   "outputs": [],
   "source": [
    "escalador =  StandardScaler() \n",
    "X_train[columnas_num]=escalador.fit_transform(X_train[columnas_num]) \n",
    "X_test[columnas_num]=escalador.transform(X_test[columnas_num])"
   ]
  },
  {
   "cell_type": "markdown",
   "id": "186a7183-3f7f-4cd9-b101-29551046b167",
   "metadata": {},
   "source": [
    "   "
   ]
  },
  {
   "cell_type": "markdown",
   "id": "b97bbfe3-3ae1-4f4e-834e-8be4391fea62",
   "metadata": {},
   "source": [
    "**Creamos dummies y chequeamos que tengan las mismas dimensiones**"
   ]
  },
  {
   "cell_type": "code",
   "execution_count": 110,
   "id": "c3b5b989-67d6-4246-96b5-1d75274e5a26",
   "metadata": {},
   "outputs": [
    {
     "name": "stdout",
     "output_type": "stream",
     "text": [
      "Mismas categorías en Train y Test: True\n"
     ]
    }
   ],
   "source": [
    "X_train_dummy=pd.get_dummies(X_train)\n",
    "X_test_dummy=pd.get_dummies(X_test)\n",
    "print('Mismas categorías en Train y Test:',(X_train_dummy.columns==X_test_dummy.columns).all())"
   ]
  },
  {
   "cell_type": "markdown",
   "id": "5ca2182a-9dc0-4363-9650-3163a7af9a0b",
   "metadata": {},
   "source": [
    "[Volver al menu](#top)"
   ]
  },
  {
   "cell_type": "markdown",
   "id": "913614ab-da75-4812-b96c-7b78d17cf52e",
   "metadata": {},
   "source": [
    "### Resampling de las clases <a id=\"resampling\"></a>\n",
    "\n",
    "* Haremos un undersampling de la clase mayoritaria en el training set para balancear las clases y veremos como quedó el dataset de entrenamiento.\n",
    "* Volveremos a entrenar un random forest y evaluarlo en test.\n",
    "* Repetiremos el procedimiento usando SMOTENC para sobresamplear la clase minoritaria.\n",
    "* Instanciaremos un Random Forest usando class_weight='balanced_subsample', entrenarlo en el training set original (sin resampling) y lo evaluaremos en test set\n",
    "\n",
    "* Combinaremos las tres estrategias anteriores:\n",
    "- Undersampling\n",
    "- Oversampling\n",
    "- Class weight\n",
    "\n",
    "Usaremos una combinación de undersampling y oversampling optimizando esta, mediante cross-validation. Utiliczaremos una combinación de sampling_stategy que de por resultado un dataset de tamaño reducido respecto del original. Usaremos ese dataset para hacer feature selection."
   ]
  },
  {
   "cell_type": "code",
   "execution_count": 111,
   "id": "75d8850d-f7a2-4268-9cba-3910cc54fa8d",
   "metadata": {},
   "outputs": [
    {
     "name": "stdout",
     "output_type": "stream",
     "text": [
      "X_train_us: (31788, 4838)\n",
      "\n",
      "Balance de clases en train:\n",
      "1    15894\n",
      "0    15894\n",
      "Name: review_score, dtype: int64\n",
      "\n",
      "\n",
      "X_test: (18894, 4838)\n",
      "\n",
      "Balance de clases en test:\n",
      "1    14921\n",
      "0     3973\n",
      "Name: review_score, dtype: int64\n"
     ]
    }
   ],
   "source": [
    "# UnderSampling del dataset\n",
    "sampler=RandomUnderSampler()\n",
    "X_train_us,y_train_us=sampler.fit_resample(X_train_dummy,y_train)\n",
    "print('X_train_us:',X_train_us.shape)\n",
    "print('\\nBalance de clases en train:')\n",
    "print(y_train_us.value_counts())\n",
    "\n",
    "print('\\n\\nX_test:',X_test_dummy.shape)\n",
    "print('\\nBalance de clases en test:')\n",
    "print(y_test.value_counts())"
   ]
  },
  {
   "cell_type": "code",
   "execution_count": 112,
   "id": "d1fa2b9f-1572-42f6-8c1d-d8c8551056a8",
   "metadata": {},
   "outputs": [
    {
     "name": "stdout",
     "output_type": "stream",
     "text": [
      "DATASET SUBSAMPLEADO\n",
      "              precision    recall  f1-score   support\n",
      "\n",
      "           0       0.36      0.50      0.42      3973\n",
      "           1       0.85      0.76      0.81     14921\n",
      "\n",
      "    accuracy                           0.71     18894\n",
      "   macro avg       0.61      0.63      0.61     18894\n",
      "weighted avg       0.75      0.71      0.72     18894\n",
      "\n",
      "Area bajo la curva ROC: 0.6874\n",
      "Area bajo la curva Precision-Recall: 0.8715\n"
     ]
    },
    {
     "data": {
      "image/png": "[encoded data removed]",
      "text/plain": [
       "<Figure size 432x288 with 2 Axes>"
      ]
     },
     "metadata": {
      "needs_background": "light"
     },
     "output_type": "display_data"
    }
   ],
   "source": [
    "model=RandomForestClassifier()\n",
    "model.fit(X_train_us,y_train_us)\n",
    "print('DATASET SUBSAMPLEADO')\n",
    "evaluate_model(model,X_test_dummy,y_test)"
   ]
  },
  {
   "cell_type": "code",
   "execution_count": 113,
   "id": "8ebb5dbd-5f6a-4c28-add1-dd9a399cc388",
   "metadata": {},
   "outputs": [
    {
     "name": "stdout",
     "output_type": "stream",
     "text": [
      "DATASET SOBRESAMPLEADO\n",
      "X_train_os: (119362, 4838)\n",
      "\n",
      "Balance de clases en train:\n",
      "1    59681\n",
      "0    59681\n",
      "Name: review_score, dtype: int64\n",
      "\n",
      "\n",
      "X_test: (18894, 4838)\n",
      "\n",
      "Balance de clases en test:\n",
      "1    14921\n",
      "0     3973\n",
      "Name: review_score, dtype: int64\n"
     ]
    }
   ],
   "source": [
    "print('DATASET SOBRESAMPLEADO')\n",
    "categorical_mask=(X_train.dtypes=='category').values\n",
    "sm=SMOTENC(categorical_features=categorical_mask,sampling_strategy='minority')\n",
    "X_train_os,y_train_os=sm.fit_resample(X_train,y_train)\n",
    "X_train_os=pd.get_dummies(X_train_os)\n",
    "\n",
    "print('X_train_os:',X_train_os.shape)\n",
    "print('\\nBalance de clases en train:')\n",
    "print(y_train_os.value_counts())\n",
    "\n",
    "print('\\n\\nX_test:',X_test_dummy.shape)\n",
    "print('\\nBalance de clases en test:')\n",
    "print(y_test.value_counts())"
   ]
  },
  {
   "cell_type": "code",
   "execution_count": 114,
   "id": "966bc401-85a1-4565-a8d0-261e3f8ad6ea",
   "metadata": {},
   "outputs": [
    {
     "name": "stdout",
     "output_type": "stream",
     "text": [
      "              precision    recall  f1-score   support\n",
      "\n",
      "           0       0.57      0.30      0.39      3973\n",
      "           1       0.83      0.94      0.88     14921\n",
      "\n",
      "    accuracy                           0.80     18894\n",
      "   macro avg       0.70      0.62      0.64     18894\n",
      "weighted avg       0.78      0.80      0.78     18894\n",
      "\n",
      "Area bajo la curva ROC: 0.6828\n",
      "Area bajo la curva Precision-Recall: 0.869\n"
     ]
    },
    {
     "data": {
      "image/png": "[encoded data removed]",
      "text/plain": [
       "<Figure size 432x288 with 2 Axes>"
      ]
     },
     "metadata": {
      "needs_background": "light"
     },
     "output_type": "display_data"
    }
   ],
   "source": [
    "model=RandomForestClassifier()\n",
    "model.fit(X_train_os,y_train_os)\n",
    "evaluate_model(model,X_test_dummy,y_test)"
   ]
  },
  {
   "cell_type": "code",
   "execution_count": 115,
   "id": "f3158954-4a33-4724-b97e-91e3b2cfc655",
   "metadata": {},
   "outputs": [
    {
     "name": "stdout",
     "output_type": "stream",
     "text": [
      "              precision    recall  f1-score   support\n",
      "\n",
      "           0       0.83      0.21      0.33      3973\n",
      "           1       0.82      0.99      0.90     14921\n",
      "\n",
      "    accuracy                           0.82     18894\n",
      "   macro avg       0.83      0.60      0.61     18894\n",
      "weighted avg       0.82      0.82      0.78     18894\n",
      "\n",
      "Area bajo la curva ROC: 0.6861\n",
      "Area bajo la curva Precision-Recall: 0.8678\n"
     ]
    },
    {
     "data": {
      "image/png": "[encoded data removed]",
      "text/plain": [
       "<Figure size 432x288 with 2 Axes>"
      ]
     },
     "metadata": {
      "needs_background": "light"
     },
     "output_type": "display_data"
    }
   ],
   "source": [
    "# Balance de clases\n",
    "model=RandomForestClassifier(class_weight='balanced_subsample')\n",
    "model.fit(X_train_dummy,y_train)\n",
    "evaluate_model(model,X_test_dummy,y_test)"
   ]
  },
  {
   "cell_type": "code",
   "execution_count": 116,
   "id": "5cd975d4-6c10-44e1-a7da-df8ef056a7a9",
   "metadata": {},
   "outputs": [
    {
     "name": "stdout",
     "output_type": "stream",
     "text": [
      "(57218,)\n",
      "0.5555594393372715\n"
     ]
    }
   ],
   "source": [
    "# Combinando Estrategias\n",
    "sampler=RandomUnderSampler(sampling_strategy=0.5)\n",
    "X,y=sampler.fit_resample(X_train,y_train)\n",
    "sm=SMOTENC(categorical_mask,sampling_strategy=0.8)\n",
    "X_train_rs,y_train_rs=sm.fit_resample( X,y)\n",
    "\n",
    "X_train_rs=pd.get_dummies(X_train_rs)\n",
    "if not (X_test_dummy.columns==X_train_rs.columns).all():\n",
    "    print('Train y Test tienen distintas Categorias:')\n",
    "    print('Usar OneHotEncoding')\n",
    "\n",
    "print(y_train_rs.shape)\n",
    "print(y_train_rs.mean())"
   ]
  },
  {
   "cell_type": "code",
   "execution_count": 117,
   "id": "6653c4e4-bf0c-4941-9e50-c57831f1bc2b",
   "metadata": {},
   "outputs": [
    {
     "name": "stdout",
     "output_type": "stream",
     "text": [
      "              precision    recall  f1-score   support\n",
      "\n",
      "           0       0.53      0.33      0.41      3973\n",
      "           1       0.84      0.92      0.88     14921\n",
      "\n",
      "    accuracy                           0.80     18894\n",
      "   macro avg       0.68      0.63      0.64     18894\n",
      "weighted avg       0.77      0.80      0.78     18894\n",
      "\n",
      "Area bajo la curva ROC: 0.6921\n",
      "Area bajo la curva Precision-Recall: 0.8719\n"
     ]
    },
    {
     "data": {
      "image/png": "[encoded data removed]",
      "text/plain": [
       "<Figure size 432x288 with 2 Axes>"
      ]
     },
     "metadata": {
      "needs_background": "light"
     },
     "output_type": "display_data"
    }
   ],
   "source": [
    "# Balance de clases\n",
    "model=RandomForestClassifier(class_weight='balanced_subsample')\n",
    "model.fit(X_train_rs,y_train_rs)\n",
    "evaluate_model(model,X_test_dummy,y_test)"
   ]
  },
  {
   "cell_type": "markdown",
   "id": "2f6f49d9-1952-4568-a1ff-1b7d9b00370b",
   "metadata": {},
   "source": [
    "[Volver al menu](#top)"
   ]
  },
  {
   "cell_type": "markdown",
   "id": "b3509263-375a-4426-87bc-38bda2d5b459",
   "metadata": {},
   "source": [
    "### Selección de Features <a id=\"selecfeatures\"></a>\n",
    "\n",
    "#### SelectKBest\n",
    "Primero seleccionaremos featuers usando SelectKbest tomando como medida de score el criterio 'f_classif'\n",
    "\n",
    "* Haceremos un pipeline que concatene el selector de features y un RandomForestClassifier con class_weight='balanced_subsample'\n",
    "* Haceremos una gridsearchCV variando el parámetro k del selector de features. Usar scoring='f1'.\n",
    "* Graficaremos los resultados del procedimiento de cross-validation: scores de clasificacion vs nro de features\n",
    "* Graficaremos la importancia de las features para el modelo."
   ]
  },
  {
   "cell_type": "code",
   "execution_count": 118,
   "id": "2e8ee942-a5ee-480e-80d7-69fe00884ce8",
   "metadata": {},
   "outputs": [
    {
     "name": "stdout",
     "output_type": "stream",
     "text": [
      "Fitting 3 folds for each of 15 candidates, totalling 45 fits\n"
     ]
    },
    {
     "name": "stderr",
     "output_type": "stream",
     "text": [
      "[Parallel(n_jobs=3)]: Using backend LokyBackend with 3 concurrent workers.\n",
      "[Parallel(n_jobs=3)]: Done  26 tasks      | elapsed:  5.8min\n",
      "[Parallel(n_jobs=3)]: Done  45 out of  45 | elapsed: 10.4min finished\n"
     ]
    },
    {
     "data": {
      "text/plain": [
       "GridSearchCV(cv=StratifiedKFold(n_splits=3, random_state=0, shuffle=True),\n",
       "             estimator=Pipeline(steps=[('selector', SelectKBest()),\n",
       "                                       ('classif',\n",
       "                                        RandomForestClassifier(class_weight='balanced_subsample'))]),\n",
       "             n_jobs=3,\n",
       "             param_grid={'selector__k': array([ 10,  30,  50,  70,  90, 110, 130, 150, 170, 190, 210, 230, 250,\n",
       "       270, 290])},\n",
       "             scoring='f1', verbose=3)"
      ]
     },
     "execution_count": 118,
     "metadata": {},
     "output_type": "execute_result"
    }
   ],
   "source": [
    "# Seleccion de features:\n",
    "skf=StratifiedKFold(n_splits=3,shuffle=True,random_state=0)\n",
    "steps=([('selector',SelectKBest(f_classif)),('classif',RandomForestClassifier(class_weight='balanced_subsample'))])\n",
    "pipe=Pipeline(steps)\n",
    "param_grid={'selector__k':np.arange(10,300,20)}\n",
    "grid=GridSearchCV(pipe,param_grid,scoring='f1',cv=skf,verbose=3,n_jobs=3)\n",
    "grid.fit(X_train_rs,y_train_rs)"
   ]
  },
  {
   "cell_type": "code",
   "execution_count": 119,
   "id": "e8688d89-43b9-4d24-8a8d-39431afed48d",
   "metadata": {},
   "outputs": [
    {
     "data": {
      "image/png": "[encoded data removed]",
      "text/plain": [
       "<Figure size 432x288 with 1 Axes>"
      ]
     },
     "metadata": {
      "needs_background": "light"
     },
     "output_type": "display_data"
    }
   ],
   "source": [
    "n_features=grid.cv_results_['param_selector__k'].data\n",
    "mn_cv_score=grid.cv_results_['mean_test_score']\n",
    "err=grid.cv_results_['std_test_score']\n",
    "plt.bar(n_features,mn_cv_score,color = \"purple\",width=3,yerr=err,align = \"center\")\n",
    "plt.xlabel('Número de features')\n",
    "plt.ylabel('test score');"
   ]
  },
  {
   "cell_type": "code",
   "execution_count": 120,
   "id": "e713f4d9-8677-4fd9-9b27-97611f749e2a",
   "metadata": {},
   "outputs": [
    {
     "name": "stdout",
     "output_type": "stream",
     "text": [
      "              precision    recall  f1-score   support\n",
      "\n",
      "           0       0.51      0.33      0.40      3973\n",
      "           1       0.84      0.91      0.87     14921\n",
      "\n",
      "    accuracy                           0.79     18894\n",
      "   macro avg       0.67      0.62      0.64     18894\n",
      "weighted avg       0.77      0.79      0.77     18894\n",
      "\n",
      "Area bajo la curva ROC: 0.6884\n",
      "Area bajo la curva Precision-Recall: 0.8714\n"
     ]
    },
    {
     "data": {
      "image/png": "[encoded data removed]",
      "text/plain": [
       "<Figure size 432x288 with 2 Axes>"
      ]
     },
     "metadata": {
      "needs_background": "light"
     },
     "output_type": "display_data"
    }
   ],
   "source": [
    "# Evaluamos en test\n",
    "skb=SelectKBest(f_classif,k=70)\n",
    "X_train_reduced=skb.fit_transform(X_train_rs,y_train_rs)\n",
    "X_test_reduced=X_test_dummy.loc[:,skb.get_support()]\n",
    "model=RandomForestClassifier(class_weight='balanced_subsample')\n",
    "model.fit(X_train_reduced,y_train_rs)\n",
    "evaluate_model(model,X_test_reduced,y_test)"
   ]
  },
  {
   "cell_type": "code",
   "execution_count": 121,
   "id": "5704eadf-f9fe-46ec-ba4c-744bf610f840",
   "metadata": {},
   "outputs": [
    {
     "data": {
      "text/plain": [
       "(0.0, 30.0)"
      ]
     },
     "execution_count": 121,
     "metadata": {},
     "output_type": "execute_result"
    },
    {
     "data": {
      "image/png": "[encoded data removed]",
      "text/plain": [
       "<Figure size 504x216 with 1 Axes>"
      ]
     },
     "metadata": {
      "needs_background": "light"
     },
     "output_type": "display_data"
    }
   ],
   "source": [
    "y=np.sort(model.feature_importances_)\n",
    "x=np.argsort(model.feature_importances_)\n",
    "x=x[::-1]\n",
    "feat_names=X_train_rs.columns[skb.get_support()]\n",
    "labels=feat_names[x]\n",
    "y=y[::-1]\n",
    "\n",
    "plt.figure(figsize=(7,3))\n",
    "plt.bar(range(len(y)),y,color = \"purple\",width=0.4,align = \"center\")\n",
    "plt.xticks(range(len(y)), labels, rotation=90)\n",
    "\n",
    "plt.xlim([0,30])"
   ]
  },
  {
   "cell_type": "code",
   "execution_count": 122,
   "id": "b90a0aa5-f37a-42ab-bf02-ccd2ea2cc3d9",
   "metadata": {},
   "outputs": [
    {
     "data": {
      "text/plain": [
       "((18894, 70), (57218, 70))"
      ]
     },
     "execution_count": 122,
     "metadata": {},
     "output_type": "execute_result"
    }
   ],
   "source": [
    "X_test_reduced.shape, X_train_reduced.shape"
   ]
  },
  {
   "cell_type": "code",
   "execution_count": 123,
   "id": "fafabe7d-f51e-4850-a778-f3922f26b73c",
   "metadata": {},
   "outputs": [
    {
     "data": {
      "text/plain": [
       "((57218,), (18894,))"
      ]
     },
     "execution_count": 123,
     "metadata": {},
     "output_type": "execute_result"
    }
   ],
   "source": [
    " y_train_rs.shape, y_test.shape"
   ]
  },
  {
   "cell_type": "markdown",
   "id": "fdd92d82-0f46-499d-8cf3-2c074df37681",
   "metadata": {},
   "source": [
    "[Volver al menu](#top)"
   ]
  },
  {
   "cell_type": "markdown",
   "id": "b7ba3de5-6f22-4c39-a083-c04424602b7b",
   "metadata": {
    "papermill": {
     "duration": 0.085567,
     "end_time": "2021-03-04T17:26:08.091089",
     "exception": false,
     "start_time": "2021-03-04T17:26:08.005522",
     "status": "completed"
    },
    "tags": []
   },
   "source": [
    "# Metodología Modelos Clasificacion <a id=\"methodologymodels\"></a>\n",
    "\n",
    "El DF estába muy desequilibrado con reviewscores negativoss como la clase minoritaria. Veremos, cuál es el mejor métodos de clasificación.\n",
    "En una primera instancia se van a construir funciones para facilitar el proceso."
   ]
  },
  {
   "cell_type": "markdown",
   "id": "dde7c44e-1af3-4b57-bbd8-61b66f014adf",
   "metadata": {
    "papermill": {
     "duration": 0.087642,
     "end_time": "2021-03-04T17:26:11.139236",
     "exception": false,
     "start_time": "2021-03-04T17:26:11.051594",
     "status": "completed"
    },
    "tags": []
   },
   "source": [
    "## Evaluación de métricas - Precision, Recall and F1-Score <a id='evaluate'>\n",
    "\n",
    "Para evaluar los modelos de clasificación binaria usaremos Precision , Recall, F1-Score, Especificity y Area b/curva ROC."
   ]
  },
  {
   "cell_type": "code",
   "execution_count": 124,
   "id": "f8e4b1a6-4222-48ac-af95-aee9babfd032",
   "metadata": {
    "papermill": {
     "duration": 0.097514,
     "end_time": "2021-03-04T17:26:11.507861",
     "exception": false,
     "start_time": "2021-03-04T17:26:11.410347",
     "status": "completed"
    },
    "tags": []
   },
   "outputs": [],
   "source": [
    "def Model_Score(model, y_test, X_test):\n",
    "\n",
    "    y_pred = model.predict(X_test)\n",
    "    y_proba = model.predict_proba(X_test)\n",
    "    \n",
    "    total_score = {'Recall':[recall_score(y_test, y_pred, pos_label=1,average='binary')],\n",
    "                   'Precision': [precision_score(y_test, y_pred, pos_label=1,average='binary')],\n",
    "                   'F1_Score' : [f1_score(y_test, y_pred, pos_label=1,average='binary')],\n",
    "                   'Especificity': [recall_score(y_test, y_pred, pos_label=0,average='binary')],\n",
    "                   'Area b/curva ROC': [np.round(roc_auc_score(y_test,y_proba[:,1]),4)]\n",
    "                   }\n",
    "    \n",
    "    total_score = pd.DataFrame(total_score, columns = ['Recall','Precision','F1_Score','Especificity',\n",
    "                                                       'Area b/curva ROC'])   \n",
    "    return total_score\n"
   ]
  },
  {
   "cell_type": "code",
   "execution_count": 125,
   "id": "695a1f70-2828-4ffb-8024-665d292c88f5",
   "metadata": {},
   "outputs": [],
   "source": [
    "def expo_metricas(model, y_test, X_test):\n",
    "\n",
    "    y_pred = model.predict(X_test)\n",
    "    \n",
    "    \"\"\"Función que recibe valores de 'y' reales,\n",
    "    valores de 'y' predichos y \n",
    "    devuelve metricas principales\"\"\"\n",
    "    \n",
    "    print(\"\\nAccuracy:\", accuracy_score(y_test, y_pred))\n",
    "    print(\"\\nAUROC:\", roc_auc_score(y_test, y_pred))\n",
    "    print(\"\\nF1-Score:\", f1_score(y_test, y_pred, average = 'weighted'))\n",
    "    print(\"\\nClasification Report:\")\n",
    "    print(metrics.classification_report(y_test, y_pred))\n",
    "    print(\"\\nMatriz de confusion:\")\n",
    "    \n",
    "    sns.heatmap(confusion_matrix(y_test, y_pred), annot = True, fmt='d',cmap='BuPu')\n",
    "    plt.show();\n",
    " "
   ]
  },
  {
   "cell_type": "markdown",
   "id": "a28f65b3-6236-45ba-a5b6-b99c41bf3ea6",
   "metadata": {},
   "source": [
    "[Volver al menu](#top)"
   ]
  },
  {
   "cell_type": "markdown",
   "id": "6571079e-0e1d-4904-b0bf-29b9505124ec",
   "metadata": {
    "papermill": {
     "duration": 0.088036,
     "end_time": "2021-03-04T17:26:11.683295",
     "exception": false,
     "start_time": "2021-03-04T17:26:11.595259",
     "status": "completed"
    },
    "tags": []
   },
   "source": [
    "## Algoritmos de clasificación <a id='classification'>"
   ]
  },
  {
   "cell_type": "markdown",
   "id": "ea83f86c-820b-4837-8236-8df16b383ecd",
   "metadata": {
    "papermill": {
     "duration": 0.088652,
     "end_time": "2021-03-04T17:26:11.861088",
     "exception": false,
     "start_time": "2021-03-04T17:26:11.772436",
     "status": "completed"
    },
    "tags": []
   },
   "source": [
    "Probaremos cuatro algoritmos de clasificación\n",
    "* Regresión Logistica\n",
    "* Decision Tree Classifier\n",
    "* Random Forest Classifier\n",
    "* Extreme Gradient Boosting\n"
   ]
  },
  {
   "cell_type": "markdown",
   "id": "b2412999-92ba-4b2c-8dc0-f1ecd895ef60",
   "metadata": {},
   "source": [
    "[Volver al menu](#top)"
   ]
  },
  {
   "cell_type": "markdown",
   "id": "c9aad632-9d71-4d88-a72e-0905fa673da0",
   "metadata": {
    "papermill": {
     "duration": 0.087698,
     "end_time": "2021-03-04T17:26:13.144086",
     "exception": false,
     "start_time": "2021-03-04T17:26:13.056388",
     "status": "completed"
    },
    "tags": []
   },
   "source": [
    "## Test de modelos<a id='mt'>"
   ]
  },
  {
   "cell_type": "markdown",
   "id": "6c664a0a-73ce-4fb2-85c9-7e709d4dd2ef",
   "metadata": {
    "papermill": {
     "duration": 0.088179,
     "end_time": "2021-03-04T17:26:13.320019",
     "exception": false,
     "start_time": "2021-03-04T17:26:13.231840",
     "status": "completed"
    },
    "tags": []
   },
   "source": [
    "Al final, se devolverá una tabla con la precisión de recuperación y la puntuación f1 basada en los datos brutos del conjunto de pruebas para los 4 modelos diferentes.\n"
   ]
  },
  {
   "cell_type": "code",
   "execution_count": 126,
   "id": "2249191e-0a49-496a-9376-2ef41687a476",
   "metadata": {
    "papermill": {
     "duration": 0.215875,
     "end_time": "2021-03-04T17:26:13.623441",
     "exception": false,
     "start_time": "2021-03-04T17:26:13.407566",
     "status": "completed"
    },
    "tags": []
   },
   "outputs": [],
   "source": [
    "def Models_Binary_Classification(X_train, X_test, y_train, y_test):\n",
    "\n",
    "    ## train split\n",
    "    X_train_1, X_test_1,y_train_1, y_test_1 = X_train, X_test,y_train, y_test\n",
    "    \n",
    "    # 1 - Logistic Regression \n",
    "    ### LR\n",
    "    LR_1 = LogisticRegression()\n",
    "    LR_1.fit(X_train_1, y_train_1)\n",
    "    LR_score_1 = Model_Score(LR_1, y_test_1, X_test_1)\n",
    "    print(\"\\nLogistic Regression:\")\n",
    "    LR_score_1_2 = expo_metricas(LR_1, y_test_1, X_test_1)\n",
    "           \n",
    "    # 2 - Decision Tree Classifier (DTC) \n",
    "    ###  DTC\n",
    "    DTC_1 = DecisionTreeClassifier(random_state=0, max_depth=5)\n",
    "    DTC_1.fit(X_train_1, y_train_1)\n",
    "    DTC_score_1 = Model_Score(DTC_1, y_test_1, X_test_1)\n",
    "    print(\"\\nDecision Tree Classifier\")\n",
    "    DTC_score_1_2 = expo_metricas(DTC_1, y_test_1, X_test_1)\n",
    "       \n",
    "    # 3 - Ramdon Forrest  Classifier (RFC) \n",
    "    ###  RFC\n",
    "    RFC_1 = RandomForestClassifier(random_state=0, max_depth=5)\n",
    "    RFC_1.fit(X_train_1, y_train_1)\n",
    "    RFC_score_1 = Model_Score(RFC_1, y_test_1, X_test_1)\n",
    "    print(\"\\nRamdon Forrest  Classifier\")\n",
    "    RFC_score_1_2 = expo_metricas(RFC_1, y_test_1, X_test_1)\n",
    "    \n",
    "    # 4 - XGBC Classifier (XGBC) \n",
    "    # XGBC \n",
    "    XGBC_1 = xgb.XGBClassifier(random_state=0, max_depth=5)\n",
    "    XGBC_1.fit(X_train_1, y_train_1)\n",
    "    XGBC_score_1 = Model_Score(XGBC_1, y_test_1, X_test_1)\n",
    "    print(\"\\nXGBC Classifier\")\n",
    "    XGBC_score_1_2 = expo_metricas(XGBC_1, y_test_1, X_test_1)\n",
    "    \n",
    "   # Best F1_Score\n",
    "    \n",
    "    Score = {'Methods': ['LR - Logistic Regression',\n",
    "                                    'DTC - Decision Tree Classifier',\n",
    "                                    'RFC - Ramdon Forrest  Classifier',\n",
    "                                    'XGBC - XG Boost Classifier'\n",
    "                                   ],\n",
    "                        \n",
    "                             'Recall': [LR_score_1[\"Recall\"][0],\n",
    "                                        DTC_score_1[\"Recall\"][0],\n",
    "                                        RFC_score_1[\"Recall\"][0],\n",
    "                                        XGBC_score_1[\"Recall\"][0]\n",
    "                                       ],\n",
    "             \n",
    "                          'Precision': [LR_score_1[\"Precision\"][0],\n",
    "                                        DTC_score_1[\"Precision\"][0],\n",
    "                                        RFC_score_1[\"Precision\"][0],\n",
    "                                        XGBC_score_1[\"Precision\"][0]\n",
    "                                       ],\n",
    "             \n",
    "                           'F1_Score': [LR_score_1[\"F1_Score\"][0],\n",
    "                                        DTC_score_1[\"F1_Score\"][0],\n",
    "                                        RFC_score_1[\"F1_Score\"][0],\n",
    "                                        XGBC_score_1[\"F1_Score\"][0]\n",
    "                                       ],   \n",
    "             \n",
    "                       'Especificity': [LR_score_1[\"Especificity\"][0],\n",
    "                                        DTC_score_1[\"Especificity\"][0],\n",
    "                                        RFC_score_1[\"Especificity\"][0],\n",
    "                                        XGBC_score_1[\"Especificity\"][0]\n",
    "                                       ],\n",
    "             \n",
    "                   'Area b/curva ROC': [LR_score_1[\"Area b/curva ROC\"][0],\n",
    "                                        DTC_score_1[\"Area b/curva ROC\"][0],\n",
    "                                        RFC_score_1[\"Area b/curva ROC\"][0],\n",
    "                                        XGBC_score_1[\"Area b/curva ROC\"][0]\n",
    "                                       ]\n",
    "                           }\n",
    "    \n",
    "    score_results = pd.DataFrame(Score)\n",
    "\n",
    "    return score_results"
   ]
  },
  {
   "cell_type": "markdown",
   "id": "6d56bd78-4c5e-48ca-9edc-2e647c280b35",
   "metadata": {},
   "source": [
    "    "
   ]
  },
  {
   "cell_type": "markdown",
   "id": "ed777fee-a987-41b5-b7fc-1c261c98485c",
   "metadata": {},
   "source": [
    "**Corremos los modelos para nuestra data ya balanceada y con features seleccionadas previamente.**"
   ]
  },
  {
   "cell_type": "code",
   "execution_count": 127,
   "id": "fda3c2c7-643d-4321-a8a8-6103eba0a266",
   "metadata": {
    "papermill": {
     "duration": 7158.260519,
     "end_time": "2021-03-04T20:08:44.950430",
     "exception": false,
     "start_time": "2021-03-04T18:09:26.689911",
     "status": "completed"
    },
    "tags": []
   },
   "outputs": [
    {
     "name": "stdout",
     "output_type": "stream",
     "text": [
      "\n",
      "Logistic Regression:\n",
      "\n",
      "Accuracy: 0.7407642637874458\n",
      "\n",
      "AUROC: 0.6279199825684844\n",
      "\n",
      "F1-Score: 0.7451534734475701\n",
      "\n",
      "Clasification Report:\n",
      "              precision    recall  f1-score   support\n",
      "\n",
      "           0       0.39      0.43      0.41      3973\n",
      "           1       0.84      0.82      0.83     14921\n",
      "\n",
      "    accuracy                           0.74     18894\n",
      "   macro avg       0.62      0.63      0.62     18894\n",
      "weighted avg       0.75      0.74      0.75     18894\n",
      "\n",
      "\n",
      "Matriz de confusion:\n"
     ]
    },
    {
     "data": {
      "image/png": "[encoded data removed]",
      "text/plain": [
       "<Figure size 432x288 with 2 Axes>"
      ]
     },
     "metadata": {
      "needs_background": "light"
     },
     "output_type": "display_data"
    },
    {
     "name": "stdout",
     "output_type": "stream",
     "text": [
      "\n",
      "Decision Tree Classifier\n",
      "\n",
      "Accuracy: 0.7966550227585477\n",
      "\n",
      "AUROC: 0.6167671592916417\n",
      "\n",
      "F1-Score: 0.7749888829626499\n",
      "\n",
      "Clasification Report:\n",
      "              precision    recall  f1-score   support\n",
      "\n",
      "           0       0.53      0.31      0.39      3973\n",
      "           1       0.83      0.93      0.88     14921\n",
      "\n",
      "    accuracy                           0.80     18894\n",
      "   macro avg       0.68      0.62      0.63     18894\n",
      "weighted avg       0.77      0.80      0.77     18894\n",
      "\n",
      "\n",
      "Matriz de confusion:\n"
     ]
    },
    {
     "data": {
      "image/png": "[encoded data removed]",
      "text/plain": [
       "<Figure size 432x288 with 2 Axes>"
      ]
     },
     "metadata": {
      "needs_background": "light"
     },
     "output_type": "display_data"
    },
    {
     "name": "stdout",
     "output_type": "stream",
     "text": [
      "\n",
      "Ramdon Forrest  Classifier\n",
      "\n",
      "Accuracy: 0.8048057584418334\n",
      "\n",
      "AUROC: 0.6137094410796771\n",
      "\n",
      "F1-Score: 0.778069881911784\n",
      "\n",
      "Clasification Report:\n",
      "              precision    recall  f1-score   support\n",
      "\n",
      "           0       0.57      0.28      0.38      3973\n",
      "           1       0.83      0.94      0.88     14921\n",
      "\n",
      "    accuracy                           0.80     18894\n",
      "   macro avg       0.70      0.61      0.63     18894\n",
      "weighted avg       0.78      0.80      0.78     18894\n",
      "\n",
      "\n",
      "Matriz de confusion:\n"
     ]
    },
    {
     "data": {
      "image/png": "[encoded data removed]",
      "text/plain": [
       "<Figure size 432x288 with 2 Axes>"
      ]
     },
     "metadata": {
      "needs_background": "light"
     },
     "output_type": "display_data"
    },
    {
     "name": "stdout",
     "output_type": "stream",
     "text": [
      "[16:25:40] WARNING: C:/Users/Administrator/workspace/xgboost-win64_release_1.4.0/src/learner.cc:1095: Starting in XGBoost 1.3.0, the default evaluation metric used with the objective 'binary:logistic' was changed from 'error' to 'logloss'. Explicitly set eval_metric if you'd like to restore the old behavior.\n",
      "\n",
      "XGBC Classifier\n",
      "\n",
      "Accuracy: 0.8043823436011432\n",
      "\n",
      "AUROC: 0.6317246163294483\n",
      "\n",
      "F1-Score: 0.7847319771273319\n",
      "\n",
      "Clasification Report:\n",
      "              precision    recall  f1-score   support\n",
      "\n",
      "           0       0.56      0.33      0.42      3973\n",
      "           1       0.84      0.93      0.88     14921\n",
      "\n",
      "    accuracy                           0.80     18894\n",
      "   macro avg       0.70      0.63      0.65     18894\n",
      "weighted avg       0.78      0.80      0.78     18894\n",
      "\n",
      "\n",
      "Matriz de confusion:\n"
     ]
    },
    {
     "data": {
      "image/png": "[encoded data removed]",
      "text/plain": [
       "<Figure size 432x288 with 2 Axes>"
      ]
     },
     "metadata": {
      "needs_background": "light"
     },
     "output_type": "display_data"
    },
    {
     "name": "stdout",
     "output_type": "stream",
     "text": [
      "Wall time: 14.9 s\n"
     ]
    }
   ],
   "source": [
    "%time score_df_full = Models_Binary_Classification(X_train_reduced, X_test_reduced, y_train_rs, y_test)"
   ]
  },
  {
   "cell_type": "markdown",
   "id": "8332f5d9-f77b-4294-9e61-3d0b9a19e81d",
   "metadata": {
    "papermill": {
     "duration": 0.097619,
     "end_time": "2021-03-04T20:08:45.148984",
     "exception": false,
     "start_time": "2021-03-04T20:08:45.051365",
     "status": "completed"
    },
    "tags": []
   },
   "source": [
    "# Resultados de los metodos de evaluación <a id='rme'>"
   ]
  },
  {
   "cell_type": "code",
   "execution_count": 128,
   "id": "aaf1d533-ee8b-4f5c-b0d7-0fc3de4cd7d9",
   "metadata": {
    "papermill": {
     "duration": 0.118091,
     "end_time": "2021-03-04T20:08:46.261408",
     "exception": false,
     "start_time": "2021-03-04T20:08:46.143317",
     "status": "completed"
    },
    "tags": []
   },
   "outputs": [
    {
     "data": {
      "text/html": [
       "<div>\n",
       "<style scoped>\n",
       "    .dataframe tbody tr th:only-of-type {\n",
       "        vertical-align: middle;\n",
       "    }\n",
       "\n",
       "    .dataframe tbody tr th {\n",
       "        vertical-align: top;\n",
       "    }\n",
       "\n",
       "    .dataframe thead th {\n",
       "        text-align: right;\n",
       "    }\n",
       "</style>\n",
       "<table border=\"1\" class=\"dataframe\">\n",
       "  <thead>\n",
       "    <tr style=\"text-align: right;\">\n",
       "      <th></th>\n",
       "      <th>Methods</th>\n",
       "      <th>Recall</th>\n",
       "      <th>Precision</th>\n",
       "      <th>F1_Score</th>\n",
       "      <th>Especificity</th>\n",
       "      <th>Area b/curva ROC</th>\n",
       "    </tr>\n",
       "  </thead>\n",
       "  <tbody>\n",
       "    <tr>\n",
       "      <th>0</th>\n",
       "      <td>RFC - Ramdon Forrest  Classifier</td>\n",
       "      <td>0.943502</td>\n",
       "      <td>0.831886</td>\n",
       "      <td>0.884185</td>\n",
       "      <td>0.283916</td>\n",
       "      <td>0.6787</td>\n",
       "    </tr>\n",
       "    <tr>\n",
       "      <th>1</th>\n",
       "      <td>XGBC - XG Boost Classifier</td>\n",
       "      <td>0.929696</td>\n",
       "      <td>0.839760</td>\n",
       "      <td>0.882443</td>\n",
       "      <td>0.333753</td>\n",
       "      <td>0.7013</td>\n",
       "    </tr>\n",
       "    <tr>\n",
       "      <th>2</th>\n",
       "      <td>DTC - Decision Tree Classifier</td>\n",
       "      <td>0.927217</td>\n",
       "      <td>0.833886</td>\n",
       "      <td>0.878078</td>\n",
       "      <td>0.306318</td>\n",
       "      <td>0.6592</td>\n",
       "    </tr>\n",
       "    <tr>\n",
       "      <th>3</th>\n",
       "      <td>LR - Logistic Regression</td>\n",
       "      <td>0.822666</td>\n",
       "      <td>0.844978</td>\n",
       "      <td>0.833673</td>\n",
       "      <td>0.433174</td>\n",
       "      <td>0.6690</td>\n",
       "    </tr>\n",
       "  </tbody>\n",
       "</table>\n",
       "</div>"
      ],
      "text/plain": [
       "                            Methods    Recall  Precision  F1_Score  \\\n",
       "0  RFC - Ramdon Forrest  Classifier  0.943502   0.831886  0.884185   \n",
       "1        XGBC - XG Boost Classifier  0.929696   0.839760  0.882443   \n",
       "2    DTC - Decision Tree Classifier  0.927217   0.833886  0.878078   \n",
       "3          LR - Logistic Regression  0.822666   0.844978  0.833673   \n",
       "\n",
       "   Especificity  Area b/curva ROC  \n",
       "0      0.283916            0.6787  \n",
       "1      0.333753            0.7013  \n",
       "2      0.306318            0.6592  \n",
       "3      0.433174            0.6690  "
      ]
     },
     "execution_count": 128,
     "metadata": {},
     "output_type": "execute_result"
    }
   ],
   "source": [
    "#Resultados Full df\n",
    "full_methods = score_df_full.sort_values(by=['F1_Score'],ascending=False).reset_index(drop=True)\n",
    "full_methods"
   ]
  },
  {
   "cell_type": "markdown",
   "id": "3e12c75e-e58a-4897-9df8-18f43ee485e3",
   "metadata": {},
   "source": [
    "[Volver al menu](#top)"
   ]
  },
  {
   "cell_type": "markdown",
   "id": "69be99ef-1ff6-4249-b425-b86d7de52385",
   "metadata": {
    "papermill": {
     "duration": 0.104265,
     "end_time": "2021-03-04T20:08:46.915785",
     "exception": false,
     "start_time": "2021-03-04T20:08:46.811520",
     "status": "completed"
    },
    "tags": []
   },
   "source": [
    "# Tuning modelos <a id='tbm'>\n"
   ]
  },
  {
   "cell_type": "markdown",
   "id": "d4c4bf6e-7a06-4345-ade7-2dcbbf7e20da",
   "metadata": {},
   "source": [
    "## XGBoost  <a id='XGBoost'>"
   ]
  },
  {
   "cell_type": "markdown",
   "id": "a9014a06-adf9-454b-8cc7-9120b0f4391e",
   "metadata": {
    "papermill": {
     "duration": 0.10263,
     "end_time": "2021-03-04T20:08:47.122834",
     "exception": false,
     "start_time": "2021-03-04T20:08:47.020204",
     "status": "completed"
    },
    "tags": []
   },
   "source": [
    "Para ajustar debemos encontrar los mejores parámetros para max_depth, learning_ratte y n_esttimators. A continuación, entrenamos el modelo con los parámetros, trazamos una confusion_matrix y definimos una df con los resultados de Precision Recall y F1-Score.\n"
   ]
  },
  {
   "cell_type": "code",
   "execution_count": 129,
   "id": "4cd4232d-30ef-421a-bc84-e8ec14517f85",
   "metadata": {},
   "outputs": [],
   "source": [
    "def gb_mse_cv( params, random_state=0, cv=4, X = X_train_reduced, y = y_train_rs):\n",
    "   \n",
    "\n",
    "    params = {'n_estimators': int(params['n_estimators']), \n",
    "              'max_depth': int(params['max_depth']), \n",
    "              'learning_rate': int(params['learning_rate'])\n",
    "             }\n",
    "\n",
    "    model = xgb.XGBClassifier(random_state=0, **params)\n",
    "    \n",
    "\n",
    "    score = -cross_val_score(model, X, y, cv=cv, scoring=\"f1\", n_jobs=-1).mean()\n",
    "    \n",
    "\n",
    "    return score"
   ]
  },
  {
   "cell_type": "code",
   "execution_count": 130,
   "id": "00799126-f4ed-4192-bdde-9060dfb7d3b1",
   "metadata": {
    "papermill": {
     "duration": 0.118082,
     "end_time": "2021-03-04T20:08:48.251535",
     "exception": false,
     "start_time": "2021-03-04T20:08:48.133453",
     "status": "completed"
    },
    "tags": []
   },
   "outputs": [],
   "source": [
    "def GB_hyperopt(gb_mse_cv, X_train, y_train, X_test, y_test ):\n",
    "    \n",
    "\n",
    "    space={'max_depth': hp.quniform('max_depth',5,10,1),\n",
    "            'learning_rate': hp.loguniform('learning_rate', -5, 0),\n",
    "            'n_estimators': hp.quniform('n_estimators', 100, 1000, 1),\n",
    "\n",
    "    }\n",
    "\n",
    "   # las pruebas contendrán información de registro\n",
    "    trials = Trials()\n",
    "\n",
    "    best=fmin(fn=gb_mse_cv, # función para optimizar\n",
    "              space=space, # posibles valores de los parámetros\n",
    "              algo=tpe.suggest, # algoritmo de optimización, hyperotp seleccionará sus parámetros automáticamente\n",
    "              max_evals=5, # número máximo de iteraciones\n",
    "              trials=trials # logging\n",
    "             )\n",
    "   \n",
    "    model=xgb.XGBClassifier( n_estimators = int(best['n_estimators']),\n",
    "                            max_depth = int(best['max_depth']),\n",
    "                            learning_rate = best['learning_rate'],\n",
    "                            \n",
    "\n",
    "                           )\n",
    "                   \n",
    "    model.fit(X_train, y_train)\n",
    "\n",
    "    tpe_test_score=mean_squared_error(y_test, model.predict(X_test))\n",
    "    \n",
    "    return print(\"Best MSE {:.3f} params {}\".format( gb_mse_cv(best), best))"
   ]
  },
  {
   "cell_type": "code",
   "execution_count": 131,
   "id": "7b1992b4-7fa1-4134-9e7d-9a9fdf3197bb",
   "metadata": {},
   "outputs": [
    {
     "name": "stdout",
     "output_type": "stream",
     "text": [
      "100%|███████████████████████████████████████████████████████████████| 5/5 [15:00<00:00, 180.20s/trial, best loss: -0.0]\n",
      "[16:40:48] WARNING: C:/Users/Administrator/workspace/xgboost-win64_release_1.4.0/src/learner.cc:1095: Starting in XGBoost 1.3.0, the default evaluation metric used with the objective 'binary:logistic' was changed from 'error' to 'logloss'. Explicitly set eval_metric if you'd like to restore the old behavior.\n",
      "Best MSE -0.000 params {'learning_rate': 0.6702564201748157, 'max_depth': 5.0, 'n_estimators': 388.0}\n",
      "Wall time: 17min 4s\n"
     ]
    }
   ],
   "source": [
    "%time GB_hyperopt(gb_mse_cv, X_train_reduced, y_train_rs, X_test_reduced, y_test.values.ravel())"
   ]
  },
  {
   "cell_type": "code",
   "execution_count": 132,
   "id": "eb0a50ba-d484-4aab-bc8a-e786fd3fafe1",
   "metadata": {},
   "outputs": [
    {
     "name": "stdout",
     "output_type": "stream",
     "text": [
      "[16:42:52] WARNING: C:/Users/Administrator/workspace/xgboost-win64_release_1.4.0/src/learner.cc:1095: Starting in XGBoost 1.3.0, the default evaluation metric used with the objective 'binary:logistic' was changed from 'error' to 'logloss'. Explicitly set eval_metric if you'd like to restore the old behavior.\n"
     ]
    },
    {
     "data": {
      "text/plain": [
       "XGBClassifier(base_score=0.5, booster='gbtree', colsample_bylevel=1,\n",
       "              colsample_bynode=1, colsample_bytree=1, gamma=0, gpu_id=-1,\n",
       "              importance_type='gain', interaction_constraints='',\n",
       "              learning_rate=0.033843896624649684, max_delta_step=0,\n",
       "              max_depth=10, min_child_weight=1, missing=nan,\n",
       "              monotone_constraints='()', n_estimators=907, n_jobs=8,\n",
       "              num_parallel_tree=1, random_state=0, reg_alpha=0, reg_lambda=1,\n",
       "              scale_pos_weight=1, subsample=1, tree_method='exact',\n",
       "              validate_parameters=1, verbosity=None)"
      ]
     },
     "execution_count": 132,
     "metadata": {},
     "output_type": "execute_result"
    }
   ],
   "source": [
    "clf_f_t = xgb.XGBClassifier(random_state = 0,\n",
    "                           learning_rate = 0.6702564201748157,\n",
    "                           max_depth = 5,\n",
    "                           n_estimators = 388)\n",
    "\n",
    "clf_f_t.fit(X_train_reduced,y_train_rs)"
   ]
  },
  {
   "cell_type": "code",
   "execution_count": 133,
   "id": "ee72b586-d6d2-470e-957f-9bd29b379d6e",
   "metadata": {},
   "outputs": [
    {
     "name": "stdout",
     "output_type": "stream",
     "text": [
      "\n",
      "Accuracy: 0.8006774637451043\n",
      "\n",
      "AUROC: 0.6335342139968885\n",
      "\n",
      "F1-Score: 0.7832380421127064\n",
      "\n",
      "Clasification Report:\n",
      "              precision    recall  f1-score   support\n",
      "\n",
      "           0       0.54      0.35      0.42      3973\n",
      "           1       0.84      0.92      0.88     14921\n",
      "\n",
      "    accuracy                           0.80     18894\n",
      "   macro avg       0.69      0.63      0.65     18894\n",
      "weighted avg       0.78      0.80      0.78     18894\n",
      "\n",
      "\n",
      "Matriz de confusion:\n"
     ]
    },
    {
     "data": {
      "image/png": "[encoded data removed]",
      "text/plain": [
       "<Figure size 432x288 with 2 Axes>"
      ]
     },
     "metadata": {
      "needs_background": "light"
     },
     "output_type": "display_data"
    }
   ],
   "source": [
    "expo_metricas(clf_f_t, y_test, X_test_reduced)"
   ]
  },
  {
   "cell_type": "code",
   "execution_count": 134,
   "id": "21560f6e-6968-44da-8e14-ccea0f99266c",
   "metadata": {},
   "outputs": [
    {
     "data": {
      "text/html": [
       "<div>\n",
       "<style scoped>\n",
       "    .dataframe tbody tr th:only-of-type {\n",
       "        vertical-align: middle;\n",
       "    }\n",
       "\n",
       "    .dataframe tbody tr th {\n",
       "        vertical-align: top;\n",
       "    }\n",
       "\n",
       "    .dataframe thead th {\n",
       "        text-align: right;\n",
       "    }\n",
       "</style>\n",
       "<table border=\"1\" class=\"dataframe\">\n",
       "  <thead>\n",
       "    <tr style=\"text-align: right;\">\n",
       "      <th></th>\n",
       "      <th>Recall</th>\n",
       "      <th>Precision</th>\n",
       "      <th>F1_Score</th>\n",
       "      <th>Especificity</th>\n",
       "      <th>Area b/curva ROC</th>\n",
       "    </tr>\n",
       "  </thead>\n",
       "  <tbody>\n",
       "    <tr>\n",
       "      <th>0</th>\n",
       "      <td>0.921989</td>\n",
       "      <td>0.840944</td>\n",
       "      <td>0.879604</td>\n",
       "      <td>0.345079</td>\n",
       "      <td>0.6968</td>\n",
       "    </tr>\n",
       "  </tbody>\n",
       "</table>\n",
       "</div>"
      ],
      "text/plain": [
       "     Recall  Precision  F1_Score  Especificity  Area b/curva ROC\n",
       "0  0.921989   0.840944  0.879604      0.345079            0.6968"
      ]
     },
     "execution_count": 134,
     "metadata": {},
     "output_type": "execute_result"
    }
   ],
   "source": [
    "score_f_t = Model_Score(clf_f_t, y_test, X_test_reduced)\n",
    "score_f_t"
   ]
  },
  {
   "cell_type": "markdown",
   "id": "ce89d31f-ce73-448f-a138-686001df810e",
   "metadata": {},
   "source": [
    "[Volver al menu](#top)"
   ]
  },
  {
   "cell_type": "markdown",
   "id": "3893bf55-00e6-4b2c-9f2a-9bce0266ceeb",
   "metadata": {},
   "source": [
    "## Random Forest <a id='randomforest'>"
   ]
  },
  {
   "cell_type": "code",
   "execution_count": 135,
   "id": "abe6d390-e853-4fcb-8fb1-0b7745ee30b0",
   "metadata": {},
   "outputs": [],
   "source": [
    "forest = RandomForestClassifier(random_state=0, max_depth=5)\n",
    "modelF = forest.fit(X_train_reduced, y_train_rs)\n",
    "y_predF = modelF.predict(X_test_reduced)"
   ]
  },
  {
   "cell_type": "code",
   "execution_count": 136,
   "id": "f0c43fe2-d848-449f-9725-c85b527bddd9",
   "metadata": {},
   "outputs": [
    {
     "name": "stdout",
     "output_type": "stream",
     "text": [
      "\n",
      "Accuracy: 0.8048057584418334\n",
      "\n",
      "AUROC: 0.6137094410796771\n",
      "\n",
      "F1-Score: 0.778069881911784\n",
      "\n",
      "Clasification Report:\n",
      "              precision    recall  f1-score   support\n",
      "\n",
      "           0       0.57      0.28      0.38      3973\n",
      "           1       0.83      0.94      0.88     14921\n",
      "\n",
      "    accuracy                           0.80     18894\n",
      "   macro avg       0.70      0.61      0.63     18894\n",
      "weighted avg       0.78      0.80      0.78     18894\n",
      "\n",
      "\n",
      "Matriz de confusion:\n"
     ]
    },
    {
     "data": {
      "image/png": "[encoded data removed]",
      "text/plain": [
       "<Figure size 432x288 with 2 Axes>"
      ]
     },
     "metadata": {
      "needs_background": "light"
     },
     "output_type": "display_data"
    }
   ],
   "source": [
    "expo_metricas(modelF, y_test, X_test_reduced)"
   ]
  },
  {
   "cell_type": "code",
   "execution_count": 137,
   "id": "f9542181-6f38-414c-b3e7-62b0ae764556",
   "metadata": {},
   "outputs": [
    {
     "name": "stdout",
     "output_type": "stream",
     "text": [
      "Fitting 3 folds for each of 400 candidates, totalling 1200 fits\n"
     ]
    },
    {
     "name": "stderr",
     "output_type": "stream",
     "text": [
      "[Parallel(n_jobs=-1)]: Using backend LokyBackend with 8 concurrent workers.\n",
      "[Parallel(n_jobs=-1)]: Done  34 tasks      | elapsed:   31.7s\n",
      "[Parallel(n_jobs=-1)]: Done 184 tasks      | elapsed:  3.0min\n",
      "[Parallel(n_jobs=-1)]: Done 434 tasks      | elapsed:  8.0min\n",
      "[Parallel(n_jobs=-1)]: Done 784 tasks      | elapsed: 18.7min\n",
      "[Parallel(n_jobs=-1)]: Done 1200 out of 1200 | elapsed: 33.2min finished\n"
     ]
    }
   ],
   "source": [
    "n_estimators = [1, 10, 100, 150] \n",
    "max_depth = [5, 8, 15, 25, 30] \n",
    "min_samples_split = [2, 3, 5, 10, 20] \n",
    "min_samples_leaf = [1, 2, 5, 10]\n",
    "\n",
    "hyperF = dict (n_estimators = n_estimators, max_depth = max_depth,   \n",
    "              min_samples_split = min_samples_split, \n",
    "             min_samples_leaf = min_samples_leaf) \n",
    "\n",
    "gridF = GridSearchCV (forest, hyperF, cv = 3, verbose = 1, \n",
    "                      n_jobs = -1) \n",
    "bestF = gridF.fit (X_train_reduced, y_train_rs)"
   ]
  },
  {
   "cell_type": "code",
   "execution_count": 138,
   "id": "c8443fed-ee1b-48da-8cc6-0a557ccd2e6c",
   "metadata": {},
   "outputs": [
    {
     "name": "stdout",
     "output_type": "stream",
     "text": [
      "Best: 0.725175 using {'max_depth': 30, 'min_samples_leaf': 1, 'min_samples_split': 2, 'n_estimators': 150}\n"
     ]
    }
   ],
   "source": [
    "print(\"Best: %f using %s\" % (bestF.best_score_, bestF.best_params_))"
   ]
  },
  {
   "cell_type": "code",
   "execution_count": 139,
   "id": "62500842-ca16-4ea1-a83d-c4d55dfa178b",
   "metadata": {},
   "outputs": [],
   "source": [
    "forestOpt = RandomForestClassifier(random_state = 1, \n",
    "                                   max_depth = 30,     \n",
    "                                   n_estimators = 150, \n",
    "                                   min_samples_split = 2, \n",
    "                                   min_samples_leaf = 1)\n",
    "                                   \n",
    "modelOpt = forestOpt.fit(X_train_reduced, y_train_rs)\n",
    "y_pred = modelOpt.predict(X_test_reduced)"
   ]
  },
  {
   "cell_type": "code",
   "execution_count": 140,
   "id": "1b2ba487-4c0e-4203-89a0-71e7e327b4f3",
   "metadata": {},
   "outputs": [
    {
     "name": "stdout",
     "output_type": "stream",
     "text": [
      "\n",
      "Accuracy: 0.7977664867153593\n",
      "\n",
      "AUROC: 0.6243040007349387\n",
      "\n",
      "F1-Score: 0.7783705559024072\n",
      "\n",
      "Clasification Report:\n",
      "              precision    recall  f1-score   support\n",
      "\n",
      "           0       0.53      0.32      0.40      3973\n",
      "           1       0.84      0.92      0.88     14921\n",
      "\n",
      "    accuracy                           0.80     18894\n",
      "   macro avg       0.68      0.62      0.64     18894\n",
      "weighted avg       0.77      0.80      0.78     18894\n",
      "\n",
      "\n",
      "Matriz de confusion:\n"
     ]
    },
    {
     "data": {
      "image/png": "[encoded data removed]",
      "text/plain": [
       "<Figure size 432x288 with 2 Axes>"
      ]
     },
     "metadata": {
      "needs_background": "light"
     },
     "output_type": "display_data"
    }
   ],
   "source": [
    "expo_metricas(modelOpt, y_test, X_test_reduced)"
   ]
  },
  {
   "cell_type": "code",
   "execution_count": 141,
   "id": "7e054f71-ea12-49e6-b99d-91e966c32197",
   "metadata": {},
   "outputs": [
    {
     "data": {
      "text/html": [
       "<div>\n",
       "<style scoped>\n",
       "    .dataframe tbody tr th:only-of-type {\n",
       "        vertical-align: middle;\n",
       "    }\n",
       "\n",
       "    .dataframe tbody tr th {\n",
       "        vertical-align: top;\n",
       "    }\n",
       "\n",
       "    .dataframe thead th {\n",
       "        text-align: right;\n",
       "    }\n",
       "</style>\n",
       "<table border=\"1\" class=\"dataframe\">\n",
       "  <thead>\n",
       "    <tr style=\"text-align: right;\">\n",
       "      <th></th>\n",
       "      <th>Recall</th>\n",
       "      <th>Precision</th>\n",
       "      <th>F1_Score</th>\n",
       "      <th>Especificity</th>\n",
       "      <th>Area b/curva ROC</th>\n",
       "    </tr>\n",
       "  </thead>\n",
       "  <tbody>\n",
       "    <tr>\n",
       "      <th>0</th>\n",
       "      <td>0.923665</td>\n",
       "      <td>0.837099</td>\n",
       "      <td>0.878254</td>\n",
       "      <td>0.324943</td>\n",
       "      <td>0.6926</td>\n",
       "    </tr>\n",
       "  </tbody>\n",
       "</table>\n",
       "</div>"
      ],
      "text/plain": [
       "     Recall  Precision  F1_Score  Especificity  Area b/curva ROC\n",
       "0  0.923665   0.837099  0.878254      0.324943            0.6926"
      ]
     },
     "execution_count": 141,
     "metadata": {},
     "output_type": "execute_result"
    }
   ],
   "source": [
    "score_rf = Model_Score(modelOpt, y_test, X_test_reduced)\n",
    "score_rf"
   ]
  },
  {
   "cell_type": "markdown",
   "id": "622736a0-1046-4950-b45c-f8afd9165e9f",
   "metadata": {},
   "source": [
    "[Volver al menu](#top)"
   ]
  },
  {
   "cell_type": "markdown",
   "id": "8dfad9b5-1c44-4413-9ae3-bcc72984a50f",
   "metadata": {},
   "source": [
    "## Probamos un Modelo de Ensambles <a id='ensambles'>"
   ]
  },
  {
   "cell_type": "markdown",
   "id": "aa0c11dd-d328-4d98-a3ef-9c68e0326871",
   "metadata": {},
   "source": [
    "Construiremos un modelo de ensamble usando como modelos base a una RL y los dos modelos tunneados anteriores.\n",
    "Para esto, escribir la función `predict_proba_ensamble` que calcule la probabilidad de 1 como el promedio de las probabilidades respuesta de los predictores base.\n",
    "\n",
    "Evaluaremos la performance del ensamble (usando como umbral 0.5) mediante\n",
    "\n",
    "* AUC\n",
    "\n",
    "* accuracy\n",
    "\n",
    "* confusion_matrix\n"
   ]
  },
  {
   "cell_type": "markdown",
   "id": "f52d1328-dec0-4a1f-a121-34eed780eae4",
   "metadata": {},
   "source": [
    "### Logistic Regression "
   ]
  },
  {
   "cell_type": "code",
   "execution_count": 142,
   "id": "fc727920-e1ef-4ddb-82a3-370c9cdba3f1",
   "metadata": {},
   "outputs": [
    {
     "name": "stdout",
     "output_type": "stream",
     "text": [
      "\n",
      "Logistic Regression:\n",
      "\n",
      "Accuracy: 0.7407642637874458\n",
      "\n",
      "AUROC: 0.6279199825684844\n",
      "\n",
      "F1-Score: 0.7451534734475701\n",
      "\n",
      "Clasification Report:\n",
      "              precision    recall  f1-score   support\n",
      "\n",
      "           0       0.39      0.43      0.41      3973\n",
      "           1       0.84      0.82      0.83     14921\n",
      "\n",
      "    accuracy                           0.74     18894\n",
      "   macro avg       0.62      0.63      0.62     18894\n",
      "weighted avg       0.75      0.74      0.75     18894\n",
      "\n",
      "\n",
      "Matriz de confusion:\n"
     ]
    },
    {
     "data": {
      "image/png": "[encoded data removed]",
      "text/plain": [
       "<Figure size 432x288 with 2 Axes>"
      ]
     },
     "metadata": {
      "needs_background": "light"
     },
     "output_type": "display_data"
    }
   ],
   "source": [
    "LR_1 = LogisticRegression()\n",
    "LR_1.fit(X_train_reduced, y_train_rs)\n",
    "LR_score_1 = Model_Score(LR_1, y_test, X_test_reduced)\n",
    "print(\"\\nLogistic Regression:\")\n",
    "expo_metricas(LR_1, y_test, X_test_reduced)"
   ]
  },
  {
   "cell_type": "code",
   "execution_count": 143,
   "id": "63a87867-1b61-49b4-a820-7cd5170531e4",
   "metadata": {},
   "outputs": [],
   "source": [
    "X=full_df.drop('review_score',axis=1)"
   ]
  },
  {
   "cell_type": "code",
   "execution_count": 144,
   "id": "27845d9f-bb67-4efc-ba6a-5e00e0b53a5d",
   "metadata": {},
   "outputs": [],
   "source": [
    "def predict_proba_ensamble(X, LR_1, modelF, clf_f_t):\n",
    "    y_pred_1 = LR_1.predict_proba(X)[:, 1]\n",
    "    y_pred_2 = modelF.predict_proba(X)[:, 1]\n",
    "    y_pred_3 = clf_f_t.predict_proba(X)[:, 1]\n",
    "    result = (y_pred_1 + y_pred_2 + y_pred_3) / 3    \n",
    "    return result"
   ]
  },
  {
   "cell_type": "code",
   "execution_count": 145,
   "id": "c47f15a5-92a7-47eb-a31c-1c14f4f47be8",
   "metadata": {},
   "outputs": [
    {
     "name": "stdout",
     "output_type": "stream",
     "text": [
      "0.6988998843864876\n"
     ]
    }
   ],
   "source": [
    "predict_ensemble = predict_proba_ensamble(X_test_reduced, LR_1, modelF, clf_f_t)\n",
    "auc_ensemble = roc_auc_score(y_test, predict_ensemble)\n",
    "print(auc_ensemble)"
   ]
  },
  {
   "cell_type": "markdown",
   "id": "d467fb64-5e79-4338-a1a0-05b9e6f8d716",
   "metadata": {},
   "source": [
    "El valor de AUC del ensamble es similar a la de xgboost tunned."
   ]
  },
  {
   "cell_type": "code",
   "execution_count": 146,
   "id": "6a5c34df-e6b7-4f5e-a4fc-cc3ee0ca9612",
   "metadata": {},
   "outputs": [
    {
     "name": "stdout",
     "output_type": "stream",
     "text": [
      "0.7979781941357045\n",
      "[[ 1346  2627]\n",
      " [ 1190 13731]]\n"
     ]
    }
   ],
   "source": [
    "threshold = 0.5\n",
    "predict_ensemble_cat = [1 if (x >= threshold) else 0 for x in predict_ensemble]  \n",
    "\n",
    "accuracy_ensemble = accuracy_score(y_test, predict_ensemble_cat)\n",
    "print(accuracy_ensemble)\n",
    "\n",
    "confusion_matrix_ensemble = confusion_matrix(y_test, predict_ensemble_cat)\n",
    "print(confusion_matrix_ensemble)"
   ]
  },
  {
   "cell_type": "markdown",
   "id": "b130009f-086a-456d-8a14-77ae7aa2ad9a",
   "metadata": {},
   "source": [
    "[Volver al menu](#top)"
   ]
  },
  {
   "cell_type": "markdown",
   "id": "747c1efb-2e14-4a6e-86bb-70261c7e4832",
   "metadata": {
    "papermill": {
     "duration": 0.12546,
     "end_time": "2021-03-04T21:39:35.322028",
     "exception": false,
     "start_time": "2021-03-04T21:39:35.196568",
     "status": "completed"
    },
    "tags": []
   },
   "source": [
    "# Importancia de variables y Decision Tree Plot <a id='clfplot'>"
   ]
  },
  {
   "cell_type": "markdown",
   "id": "8bb6daf4-3524-4f19-bf98-6a46fa238f45",
   "metadata": {
    "papermill": {
     "duration": 0.123659,
     "end_time": "2021-03-04T21:39:35.571626",
     "exception": false,
     "start_time": "2021-03-04T21:39:35.447967",
     "status": "completed"
    },
    "tags": []
   },
   "source": [
    "Para trazar un modelo de clasificación XGBoost con los nombres de las variables, usamos la función plot_tree.\n"
   ]
  },
  {
   "cell_type": "markdown",
   "id": "82cb87ee-db5f-4470-8430-c86c82603456",
   "metadata": {
    "papermill": {
     "duration": 0.124835,
     "end_time": "2021-03-04T21:39:36.081528",
     "exception": false,
     "start_time": "2021-03-04T21:39:35.956693",
     "status": "completed"
    },
    "tags": []
   },
   "source": [
    "Como clasificador ganador en todos los marcos de datos fue el XGBoost, que funciona según el principio de conjunto. Los modelos están constituidos por muchos árboles. Para extraer la regla de decisión, tenemos que encontrar el número ordinal del mejor refuerzo de iteración para establecerlo como el parámetro \"num_tree\".\n",
    "\n",
    "Para hacer eso usaremos dos funciones que lo configuran para nosotros .get_booster y .best_iteration."
   ]
  },
  {
   "cell_type": "markdown",
   "id": "ec12932f-c400-4e61-979a-c4d36ba7e591",
   "metadata": {
    "papermill": {
     "duration": 0.126195,
     "end_time": "2021-03-04T21:39:36.332448",
     "exception": false,
     "start_time": "2021-03-04T21:39:36.206253",
     "status": "completed"
    },
    "tags": []
   },
   "source": [
    "Además, a continuación se define una función para trazar la importancia de las variables."
   ]
  },
  {
   "cell_type": "markdown",
   "id": "bf946f87-3e96-4134-b750-01b35c9c40f4",
   "metadata": {
    "papermill": {
     "duration": 0.157397,
     "end_time": "2021-03-04T21:39:49.130718",
     "exception": false,
     "start_time": "2021-03-04T21:39:48.973321",
     "status": "completed"
    },
    "tags": []
   },
   "source": [
    "## Full DF - Decision Tree e importancia de variables <a name='fulldftree'>"
   ]
  },
  {
   "cell_type": "code",
   "execution_count": 147,
   "id": "110ff13f-3803-4062-aaf1-557299008736",
   "metadata": {
    "papermill": {
     "duration": 0.16898,
     "end_time": "2021-03-04T21:39:49.457086",
     "exception": false,
     "start_time": "2021-03-04T21:39:49.288106",
     "status": "completed"
    },
    "tags": []
   },
   "outputs": [
    {
     "data": {
      "text/plain": [
       "906"
      ]
     },
     "execution_count": 147,
     "metadata": {},
     "output_type": "execute_result"
    }
   ],
   "source": [
    "clf_f_t.get_booster().best_iteration"
   ]
  },
  {
   "cell_type": "code",
   "execution_count": 148,
   "id": "69a9de13-f181-498a-8489-7a8d995256d5",
   "metadata": {},
   "outputs": [],
   "source": [
    "def Feat_Importances(clf,X_train):\n",
    "    \n",
    "    feat_importances = pd.Series(clf.feature_importances_, index = X_train.columns).sort_values(ascending=False)[::-1]\n",
    "    \n",
    "    return feat_importances.nlargest(20).plot(kind='barh',color='#4B0082')"
   ]
  },
  {
   "cell_type": "code",
   "execution_count": 149,
   "id": "6dde3175-be54-4780-8ff3-c61d07281216",
   "metadata": {
    "papermill": {
     "duration": 3.532755,
     "end_time": "2021-03-04T21:39:53.147569",
     "exception": false,
     "start_time": "2021-03-04T21:39:49.614814",
     "status": "completed"
    },
    "tags": []
   },
   "outputs": [
    {
     "data": {
      "text/plain": [
       "<AxesSubplot:>"
      ]
     },
     "execution_count": 149,
     "metadata": {},
     "output_type": "execute_result"
    },
    {
     "data": {
      "image/png": "[encoded data removed]",
      "text/plain": [
       "<Figure size 1800x3600 with 1 Axes>"
      ]
     },
     "metadata": {
      "needs_background": "light"
     },
     "output_type": "display_data"
    }
   ],
   "source": [
    "fig, ax = plt.subplots(figsize=(25, 50))  # whatever size you want\n",
    "plot_tree(clf_f_t, ax=ax , num_trees=906)"
   ]
  },
  {
   "cell_type": "code",
   "execution_count": 150,
   "id": "0fcb359d-8a96-44cd-92ee-9ab4052e9c2e",
   "metadata": {
    "papermill": {
     "duration": 1.603698,
     "end_time": "2021-03-04T21:39:54.912809",
     "exception": false,
     "start_time": "2021-03-04T21:39:53.309111",
     "status": "completed"
    },
    "tags": []
   },
   "outputs": [
    {
     "data": {
      "text/plain": [
       "(0.0, 30.0)"
      ]
     },
     "execution_count": 150,
     "metadata": {},
     "output_type": "execute_result"
    },
    {
     "data": {
      "image/png": "[encoded data removed]",
      "text/plain": [
       "<Figure size 504x216 with 1 Axes>"
      ]
     },
     "metadata": {
      "needs_background": "light"
     },
     "output_type": "display_data"
    }
   ],
   "source": [
    "y=np.sort(clf_f_t.feature_importances_)\n",
    "x=np.argsort(clf_f_t.feature_importances_)\n",
    "x=x[::-1]\n",
    "feat_names=X_train_rs.columns[skb.get_support()]\n",
    "labels=feat_names[x]\n",
    "y=y[::-1]\n",
    "\n",
    "plt.figure(figsize=(7,3))\n",
    "plt.bar(range(len(y)),y,color = \"purple\",width=0.4,align = \"center\")\n",
    "plt.xticks(range(len(y)), labels, rotation=90)\n",
    "\n",
    "plt.xlim([0,30])"
   ]
  },
  {
   "cell_type": "markdown",
   "id": "4ddd755a-b35e-4f46-88e0-b30d5ca28e98",
   "metadata": {},
   "source": [
    "[Volver al menu](#top)"
   ]
  },
  {
   "cell_type": "markdown",
   "id": "5b27108b-0ef4-46f4-a7a0-4776ed13b848",
   "metadata": {},
   "source": [
    "## Pipeline <a id='pipline'>"
   ]
  },
  {
   "cell_type": "code",
   "execution_count": 151,
   "id": "0eff68d3-9fb7-4044-8309-535da2f0a4ab",
   "metadata": {},
   "outputs": [],
   "source": [
    "from sklearn.compose import ColumnTransformer\n",
    "from sklearn.datasets import fetch_openml\n",
    "from sklearn.pipeline import Pipeline\n",
    "from sklearn.impute import SimpleImputer\n",
    "from sklearn.preprocessing import StandardScaler, OneHotEncoder"
   ]
  },
  {
   "cell_type": "code",
   "execution_count": 152,
   "id": "14048d07-51c9-41ab-b1bd-c5b62c190490",
   "metadata": {},
   "outputs": [],
   "source": [
    "# Train test split\n",
    "X_train,X_test,y_train,y_test=train_test_split(full_df.drop('review_score',axis=1),full_df['review_score'],\\\n",
    "                                               stratify=full_df['review_score'],random_state=0,test_size=0.2)\n"
   ]
  },
  {
   "cell_type": "code",
   "execution_count": 153,
   "id": "8f07d555-9f7d-468b-958c-555d02889fd2",
   "metadata": {},
   "outputs": [
    {
     "name": "stdout",
     "output_type": "stream",
     "text": [
      "[17:25:35] WARNING: C:/Users/Administrator/workspace/xgboost-win64_release_1.4.0/src/learner.cc:1095: Starting in XGBoost 1.3.0, the default evaluation metric used with the objective 'binary:logistic' was changed from 'error' to 'logloss'. Explicitly set eval_metric if you'd like to restore the old behavior.\n",
      "model score: 0.812\n"
     ]
    }
   ],
   "source": [
    "numeric_features = ['price', 'freight_value', 'payment_value',\n",
    "       'product_photos_qty', 'product_weight_g',\n",
    "       'product_length_cm', 'product_height_cm', 'product_width_cm',\n",
    "       'customer_zip_code_prefix', 'seller_zip_code_prefix', 'weekday_order',\n",
    "       'year_order', 'monthday_order', 'month_order', 'hour_order',\n",
    "       'weekday_delivered', 'year_delivered', 'monthday_delivered',\n",
    "       'month_delivered', 'hour_delivered', 'delta_dias_entrega_cliente',\n",
    "       'delta_dias_responder_review', 'delta_de_comprada_aprobada',\n",
    "       'delta_de_aprobada_logistica', 'delta_de_logistica_cliente',\n",
    "       'delta_de_comprada_cliente', 'delta_de_entrega_estimada',\n",
    "       'precio_relativo_envío', 'delta_de_logistica_limit',\n",
    "       'delta_de_estimada_compra', 'producto_caro', 'seller_experimentado',\n",
    "       'distance_cust_sell_km']\n",
    "\n",
    "numeric_transformer = Pipeline(\n",
    "    steps=[(\"imputer\", SimpleImputer(strategy=\"median\")), (\"scaler\", StandardScaler())]\n",
    ")\n",
    "\n",
    "categorical_features = ['customer_city', 'customer_state','seller_city', 'seller_state',\n",
    "                        'order_status','payment_type','product_category_name']\n",
    "\n",
    "categorical_transformer = OneHotEncoder(handle_unknown=\"ignore\")\n",
    "\n",
    "preprocessor = ColumnTransformer(\n",
    "    transformers=[\n",
    "        (\"num\", numeric_transformer, numeric_features),\n",
    "        (\"cat\", categorical_transformer, categorical_features),\n",
    "    ]\n",
    ")\n",
    "\n",
    "# Append classifier to preprocessing pipeline.\n",
    "# Now we have a full prediction pipeline.\n",
    "clf = Pipeline(\n",
    "    steps=[(\"preprocessor\", preprocessor), \n",
    "           (\"classifier\", xgb.XGBClassifier(random_state = 0, learning_rate = 0.6702564201748157, max_depth = 4, n_estimators = 388))]\n",
    "                )\n",
    "\n",
    "\n",
    "clf.fit(X_train, y_train)\n",
    "print(\"model score: %.3f\" % clf.score(X_test, y_test))"
   ]
  },
  {
   "cell_type": "code",
   "execution_count": 154,
   "id": "1bfb7fdf-647b-4807-83c0-6ad354b267d8",
   "metadata": {},
   "outputs": [
    {
     "data": {
      "text/html": [
       "<style>div.sk-top-container {color: black;background-color: white;}div.sk-toggleable {background-color: white;}label.sk-toggleable__label {cursor: pointer;display: block;width: 100%;margin-bottom: 0;padding: 0.2em 0.3em;box-sizing: border-box;text-align: center;}div.sk-toggleable__content {max-height: 0;max-width: 0;overflow: hidden;text-align: left;background-color: #f0f8ff;}div.sk-toggleable__content pre {margin: 0.2em;color: black;border-radius: 0.25em;background-color: #f0f8ff;}input.sk-toggleable__control:checked~div.sk-toggleable__content {max-height: 200px;max-width: 100%;overflow: auto;}div.sk-estimator input.sk-toggleable__control:checked~label.sk-toggleable__label {background-color: #d4ebff;}div.sk-label input.sk-toggleable__control:checked~label.sk-toggleable__label {background-color: #d4ebff;}input.sk-hidden--visually {border: 0;clip: rect(1px 1px 1px 1px);clip: rect(1px, 1px, 1px, 1px);height: 1px;margin: -1px;overflow: hidden;padding: 0;position: absolute;width: 1px;}div.sk-estimator {font-family: monospace;background-color: #f0f8ff;margin: 0.25em 0.25em;border: 1px dotted black;border-radius: 0.25em;box-sizing: border-box;}div.sk-estimator:hover {background-color: #d4ebff;}div.sk-parallel-item::after {content: \"\";width: 100%;border-bottom: 1px solid gray;flex-grow: 1;}div.sk-label:hover label.sk-toggleable__label {background-color: #d4ebff;}div.sk-serial::before {content: \"\";position: absolute;border-left: 1px solid gray;box-sizing: border-box;top: 2em;bottom: 0;left: 50%;}div.sk-serial {display: flex;flex-direction: column;align-items: center;background-color: white;}div.sk-item {z-index: 1;}div.sk-parallel {display: flex;align-items: stretch;justify-content: center;background-color: white;}div.sk-parallel-item {display: flex;flex-direction: column;position: relative;background-color: white;}div.sk-parallel-item:first-child::after {align-self: flex-end;width: 50%;}div.sk-parallel-item:last-child::after {align-self: flex-start;width: 50%;}div.sk-parallel-item:only-child::after {width: 0;}div.sk-dashed-wrapped {border: 1px dashed gray;margin: 0.2em;box-sizing: border-box;padding-bottom: 0.1em;background-color: white;position: relative;}div.sk-label label {font-family: monospace;font-weight: bold;background-color: white;display: inline-block;line-height: 1.2em;}div.sk-label-container {position: relative;z-index: 2;text-align: center;}div.sk-container {display: inline-block;position: relative;}</style><div class=\"sk-top-container\"><div class=\"sk-container\"><div class=\"sk-item sk-dashed-wrapped\"><div class=\"sk-label-container\"><div class=\"sk-label sk-toggleable\"><input class=\"sk-toggleable__control sk-hidden--visually\" id=\"07d4afaf-c666-4680-9bd9-de5d49263d50\" type=\"checkbox\" ><label class=\"sk-toggleable__label\" for=\"07d4afaf-c666-4680-9bd9-de5d49263d50\">Pipeline</label><div class=\"sk-toggleable__content\"><pre>Pipeline(steps=[('preprocessor',\n",
       "                 ColumnTransformer(transformers=[('num',\n",
       "                                                  Pipeline(steps=[('imputer',\n",
       "                                                                   SimpleImputer(strategy='median')),\n",
       "                                                                  ('scaler',\n",
       "                                                                   StandardScaler())]),\n",
       "                                                  ['price', 'freight_value',\n",
       "                                                   'payment_value',\n",
       "                                                   'product_photos_qty',\n",
       "                                                   'product_weight_g',\n",
       "                                                   'product_length_cm',\n",
       "                                                   'product_height_cm',\n",
       "                                                   'product_width_cm',\n",
       "                                                   'customer_zip_code_prefix',\n",
       "                                                   'seller_zip_code_pref...\n",
       "                               colsample_bytree=1, gamma=0, gpu_id=-1,\n",
       "                               importance_type='gain',\n",
       "                               interaction_constraints='',\n",
       "                               learning_rate=0.6702564201748157,\n",
       "                               max_delta_step=0, max_depth=4,\n",
       "                               min_child_weight=1, missing=nan,\n",
       "                               monotone_constraints='()', n_estimators=388,\n",
       "                               n_jobs=8, num_parallel_tree=1, random_state=0,\n",
       "                               reg_alpha=0, reg_lambda=1, scale_pos_weight=1,\n",
       "                               subsample=1, tree_method='exact',\n",
       "                               validate_parameters=1, verbosity=None))])</pre></div></div></div><div class=\"sk-serial\"><div class=\"sk-item sk-dashed-wrapped\"><div class=\"sk-label-container\"><div class=\"sk-label sk-toggleable\"><input class=\"sk-toggleable__control sk-hidden--visually\" id=\"51dcb16c-edf3-4d25-9df5-1d987f98960e\" type=\"checkbox\" ><label class=\"sk-toggleable__label\" for=\"51dcb16c-edf3-4d25-9df5-1d987f98960e\">preprocessor: ColumnTransformer</label><div class=\"sk-toggleable__content\"><pre>ColumnTransformer(transformers=[('num',\n",
       "                                 Pipeline(steps=[('imputer',\n",
       "                                                  SimpleImputer(strategy='median')),\n",
       "                                                 ('scaler', StandardScaler())]),\n",
       "                                 ['price', 'freight_value', 'payment_value',\n",
       "                                  'product_photos_qty', 'product_weight_g',\n",
       "                                  'product_length_cm', 'product_height_cm',\n",
       "                                  'product_width_cm',\n",
       "                                  'customer_zip_code_prefix',\n",
       "                                  'seller_zip_code_prefix', 'weekday_order',\n",
       "                                  'year_order'...\n",
       "                                  'delta_de_aprobada_logistica',\n",
       "                                  'delta_de_logistica_cliente',\n",
       "                                  'delta_de_comprada_cliente',\n",
       "                                  'delta_de_entrega_estimada',\n",
       "                                  'precio_relativo_envío',\n",
       "                                  'delta_de_logistica_limit',\n",
       "                                  'delta_de_estimada_compra', ...]),\n",
       "                                ('cat', OneHotEncoder(handle_unknown='ignore'),\n",
       "                                 ['customer_city', 'customer_state',\n",
       "                                  'seller_city', 'seller_state', 'order_status',\n",
       "                                  'payment_type', 'product_category_name'])])</pre></div></div></div><div class=\"sk-parallel\"><div class=\"sk-parallel-item\"><div class=\"sk-item\"><div class=\"sk-label-container\"><div class=\"sk-label sk-toggleable\"><input class=\"sk-toggleable__control sk-hidden--visually\" id=\"b3c6ffac-0d9f-4bfc-aa6a-382217e0c9a1\" type=\"checkbox\" ><label class=\"sk-toggleable__label\" for=\"b3c6ffac-0d9f-4bfc-aa6a-382217e0c9a1\">num</label><div class=\"sk-toggleable__content\"><pre>['price', 'freight_value', 'payment_value', 'product_photos_qty', 'product_weight_g', 'product_length_cm', 'product_height_cm', 'product_width_cm', 'customer_zip_code_prefix', 'seller_zip_code_prefix', 'weekday_order', 'year_order', 'monthday_order', 'month_order', 'hour_order', 'weekday_delivered', 'year_delivered', 'monthday_delivered', 'month_delivered', 'hour_delivered', 'delta_dias_entrega_cliente', 'delta_dias_responder_review', 'delta_de_comprada_aprobada', 'delta_de_aprobada_logistica', 'delta_de_logistica_cliente', 'delta_de_comprada_cliente', 'delta_de_entrega_estimada', 'precio_relativo_envío', 'delta_de_logistica_limit', 'delta_de_estimada_compra', 'producto_caro', 'seller_experimentado', 'distance_cust_sell_km']</pre></div></div></div><div class=\"sk-serial\"><div class=\"sk-item\"><div class=\"sk-serial\"><div class=\"sk-item\"><div class=\"sk-estimator sk-toggleable\"><input class=\"sk-toggleable__control sk-hidden--visually\" id=\"3c24a1d4-e855-4a81-a4af-f0bade431ed6\" type=\"checkbox\" ><label class=\"sk-toggleable__label\" for=\"3c24a1d4-e855-4a81-a4af-f0bade431ed6\">SimpleImputer</label><div class=\"sk-toggleable__content\"><pre>SimpleImputer(strategy='median')</pre></div></div></div><div class=\"sk-item\"><div class=\"sk-estimator sk-toggleable\"><input class=\"sk-toggleable__control sk-hidden--visually\" id=\"31af85ad-3895-4c9a-ba7b-3df7dd1b1442\" type=\"checkbox\" ><label class=\"sk-toggleable__label\" for=\"31af85ad-3895-4c9a-ba7b-3df7dd1b1442\">StandardScaler</label><div class=\"sk-toggleable__content\"><pre>StandardScaler()</pre></div></div></div></div></div></div></div></div><div class=\"sk-parallel-item\"><div class=\"sk-item\"><div class=\"sk-label-container\"><div class=\"sk-label sk-toggleable\"><input class=\"sk-toggleable__control sk-hidden--visually\" id=\"fe3d2113-5386-4786-b3b0-1cda4454a578\" type=\"checkbox\" ><label class=\"sk-toggleable__label\" for=\"fe3d2113-5386-4786-b3b0-1cda4454a578\">cat</label><div class=\"sk-toggleable__content\"><pre>['customer_city', 'customer_state', 'seller_city', 'seller_state', 'order_status', 'payment_type', 'product_category_name']</pre></div></div></div><div class=\"sk-serial\"><div class=\"sk-item\"><div class=\"sk-estimator sk-toggleable\"><input class=\"sk-toggleable__control sk-hidden--visually\" id=\"97f8629e-8da0-49c0-ae2b-2a0f0a6ac97a\" type=\"checkbox\" ><label class=\"sk-toggleable__label\" for=\"97f8629e-8da0-49c0-ae2b-2a0f0a6ac97a\">OneHotEncoder</label><div class=\"sk-toggleable__content\"><pre>OneHotEncoder(handle_unknown='ignore')</pre></div></div></div></div></div></div></div></div><div class=\"sk-item\"><div class=\"sk-estimator sk-toggleable\"><input class=\"sk-toggleable__control sk-hidden--visually\" id=\"dff240f0-3074-4fec-9b38-7c2c52e96e02\" type=\"checkbox\" ><label class=\"sk-toggleable__label\" for=\"dff240f0-3074-4fec-9b38-7c2c52e96e02\">XGBClassifier</label><div class=\"sk-toggleable__content\"><pre>XGBClassifier(base_score=0.5, booster='gbtree', colsample_bylevel=1,\n",
       "              colsample_bynode=1, colsample_bytree=1, gamma=0, gpu_id=-1,\n",
       "              importance_type='gain', interaction_constraints='',\n",
       "              learning_rate=0.6702564201748157, max_delta_step=0, max_depth=4,\n",
       "              min_child_weight=1, missing=nan, monotone_constraints='()',\n",
       "              n_estimators=388, n_jobs=8, num_parallel_tree=1, random_state=0,\n",
       "              reg_alpha=0, reg_lambda=1, scale_pos_weight=1, subsample=1,\n",
       "              tree_method='exact', validate_parameters=1, verbosity=None)</pre></div></div></div></div></div></div></div>"
      ],
      "text/plain": [
       "Pipeline(steps=[('preprocessor',\n",
       "                 ColumnTransformer(transformers=[('num',\n",
       "                                                  Pipeline(steps=[('imputer',\n",
       "                                                                   SimpleImputer(strategy='median')),\n",
       "                                                                  ('scaler',\n",
       "                                                                   StandardScaler())]),\n",
       "                                                  ['price', 'freight_value',\n",
       "                                                   'payment_value',\n",
       "                                                   'product_photos_qty',\n",
       "                                                   'product_weight_g',\n",
       "                                                   'product_length_cm',\n",
       "                                                   'product_height_cm',\n",
       "                                                   'product_width_cm',\n",
       "                                                   'customer_zip_code_prefix',\n",
       "                                                   'seller_zip_code_pref...\n",
       "                               colsample_bytree=1, gamma=0, gpu_id=-1,\n",
       "                               importance_type='gain',\n",
       "                               interaction_constraints='',\n",
       "                               learning_rate=0.6702564201748157,\n",
       "                               max_delta_step=0, max_depth=4,\n",
       "                               min_child_weight=1, missing=nan,\n",
       "                               monotone_constraints='()', n_estimators=388,\n",
       "                               n_jobs=8, num_parallel_tree=1, random_state=0,\n",
       "                               reg_alpha=0, reg_lambda=1, scale_pos_weight=1,\n",
       "                               subsample=1, tree_method='exact',\n",
       "                               validate_parameters=1, verbosity=None))])"
      ]
     },
     "execution_count": 154,
     "metadata": {},
     "output_type": "execute_result"
    }
   ],
   "source": [
    "from sklearn import set_config\n",
    "\n",
    "set_config(display=\"diagram\")\n",
    "clf"
   ]
  },
  {
   "cell_type": "markdown",
   "id": "b08d8211-c1c4-4869-989f-af054a6994e4",
   "metadata": {},
   "source": [
    "[Volver al menu](#top)"
   ]
  },
  {
   "cell_type": "markdown",
   "id": "a9992dda-85b5-431a-bb92-94e3bb15cc29",
   "metadata": {
    "papermill": {
     "duration": 0.165671,
     "end_time": "2021-03-04T21:39:55.249500",
     "exception": false,
     "start_time": "2021-03-04T21:39:55.083829",
     "status": "completed"
    },
    "tags": []
   },
   "source": [
    "## Guardado del modelo elegido <a id='saving'>"
   ]
  },
  {
   "cell_type": "code",
   "execution_count": 155,
   "id": "f807bb71-6331-4a90-b22b-c671ee04e0d6",
   "metadata": {
    "papermill": {
     "duration": 0.224665,
     "end_time": "2021-03-04T21:39:56.133859",
     "exception": false,
     "start_time": "2021-03-04T21:39:55.909194",
     "status": "completed"
    },
    "tags": []
   },
   "outputs": [
    {
     "data": {
      "text/plain": [
       "['full_df_model.sav']"
      ]
     },
     "execution_count": 155,
     "metadata": {},
     "output_type": "execute_result"
    }
   ],
   "source": [
    "joblib.dump(clf,'full_df_model.sav')"
   ]
  },
  {
   "cell_type": "markdown",
   "id": "b589c2b9-49bd-478a-b828-51d5f7eb0b51",
   "metadata": {
    "papermill": {
     "duration": 0.166911,
     "end_time": "2021-03-04T21:39:56.463357",
     "exception": false,
     "start_time": "2021-03-04T21:39:56.296446",
     "status": "completed"
    },
    "tags": []
   },
   "source": [
    "[Volver al menu](#top)"
   ]
  },
  {
   "cell_type": "markdown",
   "id": "21737d41-c74c-4685-b051-e2d4b17b6585",
   "metadata": {},
   "source": [
    "## Análisis final <a id='final'>"
   ]
  },
  {
   "cell_type": "markdown",
   "id": "896b642c-fbd8-4e6c-8bd4-c8fe6fa09a1d",
   "metadata": {},
   "source": [
    "Eligimos como mejor modelo XGBoost porque resulto ser el más balanceado en todas las metricas. Si bien creemos que puede ser mejorada la presición para nuestra clase minoritaria, el score global es aceptable para clasificar las reviewscore y aplicar los distintos tratamientos de clientes para las campañas de email marketing. Seguiremos con nuestro proyecto en la notebook de Sentiment Analysis."
   ]
  }
 ],
 "metadata": {
  "kernelspec": {
   "display_name": "Python 3",
   "language": "python",
   "name": "python3"
  },
  "language_info": {
   "codemirror_mode": {
    "name": "ipython",
    "version": 3
   },
   "file_extension": ".py",
   "mimetype": "text/x-python",
   "name": "python",
   "nbconvert_exporter": "python",
   "pygments_lexer": "ipython3",
   "version": "3.7.10"
  }
 },
 "nbformat": 4,
 "nbformat_minor": 5
}
