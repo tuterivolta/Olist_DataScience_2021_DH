{
 "cells": [
  {
   "cell_type": "markdown",
   "id": "5a8c2571-67c4-4eb2-a268-a893c39b9a8a",
   "metadata": {},
   "source": [
    "## MENU <a name=\"top\"></a>\n",
    "* [INTRO](#introduccion)\n",
    "* [DATA](#datos)\n",
    "    * [Primeras impresiones](#primerasimpresiones)\n",
    "* [PROBLEMA DE NEGOCIOS](#problemadenegocios)\n",
    "\n",
    "\n",
    "* [EDA](#eda)\n",
    "    * [Metodología EDA](#metodologia)\n",
    "    * [Librerías EDA](#libreria)\n",
    "    * [Lectura Data](#lecturadata)\n",
    "    * [Merge Data](#Mergedata)\n",
    "    * [Verificación de datos](#datacheck)\n",
    "    * [Análisis preeliminar](#analprel)\n",
    "    * [Limpieza de datos](#cleaning)\n",
    "        * [Creación de features](#features)\n",
    "        * [Eliminación y organización de columnas](#orgcolumn)\n",
    "    * [Definición de funciones exploratorias](#DEF)\n",
    "        * [Tendencia central de Reviewscores](#sct)\n",
    "        * [Tasa de Satisfacción](#cr)\n",
    "        * [Perfil del cliente satisfecho](#cp)\n",
    "        * [Distribución del comportamiento de buenos puntuadores y puntuadores negativos](#dist)\n",
    "        * [Ventas por hora](#sh)\n",
    "        * [Ventas por día](#sd)\n",
    "        * [Correlación de reviewscores](#tc)\n",
    "    * [Resumen de la exploración general](#resumengeneral)  \n",
    "    * [Exploración por tipo de comprador](#ETM)\n",
    "        * [Recurrente](#Recurrente)\n",
    "        * [Ocasional](#Ocasional)\n",
    "        * [Unico](#Unico)\n",
    "    * [Conclusiones EDA](#Conclusiones)\n",
    "\n",
    "\n",
    "\n",
    "* [MODELOS CLASIFICACIÓN DATA TABULAR](#modelos)\n",
    "    * [Introducción](#introduction)\n",
    "    * [Librerías modelos](#libmodelos)\n",
    "    * [Preparación de la data](#prepdata)\n",
    "        * [División Target Review Score en Postivos y Negativos](#target)\n",
    "    * [Funciones modelaje](#funcionesmodelaje)\n",
    "        * [Balance de Clases](#balanceclases)\n",
    "        * [División de Data (Train and Test)](#split)\n",
    "        * [Resampling de las clases](#resampling)\n",
    "        * [Selección de Features](#selecfeatures)\n",
    "    * [Metodología Modelos Clasificación](#methodologymodels)\n",
    "        * [Evaluación de Metricas - Precision, Recall and F1-Score](#evaluate)\n",
    "        * [Algoritmos de Clasificación](#classification)\n",
    "        * [Testeo de Modelos](#mt)\n",
    "        * [Resultados de evaluación de Modelos](#rme)\n",
    "    * [Tunig Modelos](#tbm)\n",
    "        * [XGBoost](#XGBoost)\n",
    "        * [Random Forest](#randomforest)\n",
    "        * [Ensambles](#ensambles)\n",
    "    * [Importancia de variables y Ploteo de Árbol de Desición](#clfplot)\n",
    "    * [Pipeline](#pipline)\n",
    "    * [Guarado Modelo](#guardo)\n",
    "    \n",
    "\n",
    "* [ANALISIS FINAL E INSIGHTS](#final)"
   ]
  },
  {
   "cell_type": "markdown",
   "id": "5aafb845-e2ab-4937-afd9-0132e9acc2cd",
   "metadata": {},
   "source": [
    "# INTRODUCCIÓN <a id=\"introduccion\"></a> \n",
    "\n",
    "### Olist, la empresa\n",
    "\n",
    "Olist es una startup brasileña que opera en el segmento de comercio electrónico. La empresa tiene su sede en Curitiba, Paraná, y también tiene una oficina en São Paulo, contando actualmente con 300 empleados, más de 9.000 comerciantes, cerca de 200.000 usuarios vendedores y 2 millones de consumidores únicos.\n",
    "\n",
    "Olist apunta a captar el segmento de pequeñas tiendas que buscan vender a través de canales digitales, compitiendo de manera directa con jugadores establecidos como Mercado Libre, Amazon, Lojas Americanas, etc. Al enfrentarse a competidores con mayores capacidades financieras y operativas, la propuesta de valor de Olist se enfoca en el valor agregado que proveen a sus clientes a través de distintas herramientas enfocadas en maximizar ventas. En este contexto, la compañía debe desarrollar servicios que permitan a las tiendas ofrecer una experiencia óptima al usuario y al mismo tiempo obtener insights únicos sobre su operación. Para lograr este objetivo, Olist ofrece tres tipos de servicios distintos para satisfacer las necesidades de sus clientes:\n",
    "\n",
    "◦\tOlist Stores: Plataforma que permite vender y consolidar catálogos de productos e integrar las operaciones de distintos marketplaces\n",
    "\n",
    "◦\tOlist Shops: Herramienta de venta a través de Whatsapp y redes sociales\n",
    "\n",
    "◦\tOlist Pax: Servicio de logística para ventas a través de la plataforma de Olist Stores \n",
    "\n",
    "La información generada por las distintas plataformas de Olist permite explorar potenciales sinergias entres todos los servicios para desarrollar propuestas de negocio atractivas para el cliente.\n",
    "\n",
    "[Volver al menu](#top)"
   ]
  },
  {
   "cell_type": "markdown",
   "id": "cb5ec4f3-db41-48f0-864f-612906e637dd",
   "metadata": {},
   "source": [
    "## DATA <a id=\"datos\"></a>\n",
    "\n",
    "Trabajaremos con un conjunto de datos proporcionado por Olist a la plataforma Kaggle. Este contiene información de aproximadamente 100.000 pedidos de 2016 a 2018 realizados desde múltiples estados en Brasil desde Olist Stores. Sus características permiten ver un pedido desde múltiples dimensiones: desde el estado del pedido, el precio, el pago y el desempeño del flete hasta la ubicación del cliente, los atributos del producto y finalmente las reseñas escritas por los clientes.\n",
    "\n",
    "Después de que un cliente compra el producto en Olist Stores, un vendedor recibe una notificación para cumplir con ese pedido. Una vez que el cliente recibe el producto, o vence la fecha estimada de entrega, el cliente recibe una encuesta de satisfacción por correo electrónico donde puede dar una nota por la experiencia de compra y anotar algunos comentarios.\n",
    "\n",
    "Los datos se dividen en varios conjuntos de datos para una mejor comprensión y organización. Consultamos el siguiente esquema de datos para interiorizarnos en el trabajo con la data:\n",
    "\n",
    "<img src='data.png' align='left' width=100%/>\n",
    "\n",
    "Las features y métricas de todo el dataset unificado son:\n",
    "\n",
    "<img src='feat.jpg' align='left' width=30%/>"
   ]
  },
  {
   "cell_type": "markdown",
   "id": "a4d51969-0a15-4dc9-b557-8f4a0a839ab2",
   "metadata": {},
   "source": [
    "[Volver al menu](#top)"
   ]
  },
  {
   "cell_type": "markdown",
   "id": "ff528eb8-544e-4258-af34-f8f7f8d04355",
   "metadata": {},
   "source": [
    "## Primeras impresiones <a id=\"primerasimpresiones\"></a>\n",
    "Este conjunto de datos ofrece un entorno correspondiente para analizar las reseñas de los clientes compradores a través de múltiples dimensiones, permitiéndonos explorar vínculos y determinantes en diferentes planos del circuito comercial. Nos surjen algunas preguntas iniciales:\n",
    "\n",
    "-    Algunos clientes no escribieron una reseña. Pero, ¿por qué están felices o enojados? ¿por qué puntuaron como puntuaron?\n",
    "-    Existen distintos medios de pago, ¿qué tendencias muestran respecto a montos de pago o plazos de entrega?\n",
    "-    Con la información *ex ante* la puntuación que poseemos, ¿podemos predecir el satisfacción del cliente?\n",
    "-    ¿Existen características del producto comerciado que influyan en la puntuación otorgada?\n",
    "-    ¿Podemos establecer patrones entre las reseñas escritas y el score asignado?\n",
    "-    De los diferentes plazos del proceso logístico de entrega de la compra, ¿cuáles resultan determinantes para la puntuación? ¿Cómo influye la distancia entre comprador y vendedor en este aspecto?\n",
    "-    ¿Podemos encontrar patrones en las categorías de productos, que resultan más o menos propensas a la insatisfacción del cliente?\n",
    "\n",
    "[Volver al menu](#top)"
   ]
  },
  {
   "cell_type": "markdown",
   "id": "72f96381-b80b-45d8-be55-f062d9d300f1",
   "metadata": {},
   "source": [
    "## La satisfacción del cliente, el problema de negocios <a id=\"problemadenegocios\"></a>\n",
    "\n",
    "La empresa decide llevar a cabo una campaña para destinar recursos a maximizar la satisfacción del cliente que opera en la plataforma, apuntando a mejorar la puntuación existente del serivicio, y por lo tanto su reputación y potenciales oportunidades de negocios. \n",
    "\n",
    "Como marco de entendimiento, podemos pensar que la satisfacción ocurre cuando las expectativas del cliente sobre el producto y el servicio son iguales o superiores a lo que realmente obtiene. En este proceso, todos los actores tienen una resopnsabilidad en la construcción de las expectativas y su posteiror satisfacción: el producto, el vendedor y el transporte.\n",
    "\n",
    "Los correos electrónicos a través de los cuales los clientes vuelcan su satisfacción al escribir reseñas y puntuar las ordenes de compra pueden llegar en dos momentos: a) cuando se notifica que el cliente ha recibido el producto, en caso de que esto suceda el día que fue previsto o antes, o b) una vez que vence el plazo estimado de entrega y no ha llegado el producto.\n",
    "\n",
    "De esta manera, desde la empresa se plantea la necesidad de tener dos tipos de mail, uno enfocados a clientes que se encontrarían satisfechos y puntuarían bien para buscar fidelizarlos, que continúen utilizando la plataforma y dejando reseñas positivas. Otro, enfocado a clientes que se ecnontrarían instatisfechos y dejarían malas reseñas, para buscar contenerlos y compensar esa insatisfacción, aminorando una potencial mala reseña. De este modo, necesitan predecir que permita saber qué tipo de mail de reseña enviar antes de que esto suceda.\n",
    "\n",
    "A su vez, de forma posterior a esta operatoria, se está solicitando un mayor análisis del detalle de las reseñas de aquellos clientes que volcaron la falta de cumplimiento de sus expectativas en su score insatisfecho y cuerpo de la puntuación. Así, a partir de esto continuar afinando el conocimiento de las causas de esta insatisfacción y tomar cartas en el asunto para mejorarlas. Para esta tarea, se construirá un segundo modelo utilizando herramientas del tipo NLP / sentiment analysis sobre las reseñas de los clientes, buscando una mayor lupa de aumento sobre las causas de las insatisfacciones. \n",
    "\n",
    "Este mismo modelo, hecho en base a información Olist Stores, tiene proyectado luego adaptarse a las ventas generadas a través de Olist Shops, permitiendo clasificar los comentarios de los usuarios que compran a través de WhatsApp o redes sociales como positivos o negativos y dandole al vendedor una herramienta adicional para analizar el nivel de satisfacción de los usuarios. De esta forma, Olist podría ofrecer una herramienta novedosa que no está actualmente disponible y que agregaría valor para sus clientes\n",
    "\n",
    "Este será tratado en en una notebook aparte.\n",
    "\n",
    "\n",
    "[Volver al menu](#top)"
   ]
  }
 ],
 "metadata": {
  "kernelspec": {
   "display_name": "Python 3",
   "language": "python",
   "name": "python3"
  },
  "language_info": {
   "codemirror_mode": {
    "name": "ipython",
    "version": 3
   },
   "file_extension": ".py",
   "mimetype": "text/x-python",
   "name": "python",
   "nbconvert_exporter": "python",
   "pygments_lexer": "ipython3",
   "version": "3.7.10"
  }
 },
 "nbformat": 4,
 "nbformat_minor": 5
}
